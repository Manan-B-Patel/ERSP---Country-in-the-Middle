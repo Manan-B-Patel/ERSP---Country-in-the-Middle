{
 "cells": [
  {
   "cell_type": "markdown",
   "id": "7200d240",
   "metadata": {},
   "source": [
    "# Country Aanalysis: Taiwan"
   ]
  },
  {
   "cell_type": "code",
   "execution_count": 107,
   "id": "8a6c2883",
   "metadata": {},
   "outputs": [],
   "source": [
    "import pandas as pd\n",
    "import matplotlib.pyplot as plt\n",
    "# convert strings into lists \n",
    "import ast\n",
    "# for ping tests\n",
    "import requests\n",
    "from ripe.atlas.cousteau import Ping, AtlasSource, AtlasCreateRequest, AtlasResultsRequest, MeasurementTagger\n",
    "import logging\n",
    "from datetime import datetime, timedelta\n",
    "import multiprocessing as mp\n",
    "# for mean latencies\n",
    "import json\n",
    "import urllib.request"
   ]
  },
  {
   "cell_type": "markdown",
   "id": "10c18f80",
   "metadata": {},
   "source": [
    "## Loading Data"
   ]
  },
  {
   "cell_type": "code",
   "execution_count": 108,
   "id": "6b5dfb11",
   "metadata": {},
   "outputs": [],
   "source": [
    "df = pd.read_csv('../data/processed_results_20240226_filtered_path_org_anycast.csv', keep_default_na=False) "
   ]
  },
  {
   "cell_type": "code",
   "execution_count": 109,
   "id": "86fc663a",
   "metadata": {},
   "outputs": [],
   "source": [
    "tw_df = df[df.country == \"Taiwan\"]"
   ]
  },
  {
   "cell_type": "markdown",
   "id": "c06399af",
   "metadata": {},
   "source": [
    "### Number of Traceroutes"
   ]
  },
  {
   "cell_type": "code",
   "execution_count": 110,
   "id": "6edb00c3",
   "metadata": {},
   "outputs": [
    {
     "name": "stdout",
     "output_type": "stream",
     "text": [
      "Number of Traceroutes collected for Taiwan:  988\n"
     ]
    }
   ],
   "source": [
    "numOfTr = len(tw_df)\n",
    "print(\"Number of Traceroutes collected for Taiwan: \", numOfTr)"
   ]
  },
  {
   "cell_type": "markdown",
   "id": "f00d901b",
   "metadata": {},
   "source": [
    "### Number of Unique Websites"
   ]
  },
  {
   "cell_type": "code",
   "execution_count": 111,
   "id": "d9684cc1",
   "metadata": {},
   "outputs": [
    {
     "name": "stdout",
     "output_type": "stream",
     "text": [
      "Number of Unique websites for Taiwan:  99\n"
     ]
    }
   ],
   "source": [
    "numOfUniqueWebsites = len(set(tw_df.dst_url))\n",
    "print(\"Number of Unique websites for Taiwan: \", numOfUniqueWebsites)"
   ]
  },
  {
   "cell_type": "markdown",
   "id": "aba0d3b9",
   "metadata": {},
   "source": [
    "### Number of Unique Ripe Atlas Probes"
   ]
  },
  {
   "cell_type": "code",
   "execution_count": 112,
   "id": "eb2b1a03",
   "metadata": {},
   "outputs": [
    {
     "name": "stdout",
     "output_type": "stream",
     "text": [
      "Number of Unique RIPE Atlas probes:  10\n"
     ]
    }
   ],
   "source": [
    "numOfUniqueProbes = len(set(tw_df.probe_ids))\n",
    "print(\"Number of Unique RIPE Atlas probes: \", numOfUniqueProbes)"
   ]
  },
  {
   "cell_type": "markdown",
   "id": "0929c33d",
   "metadata": {},
   "source": [
    "### Number of Convergent Traceroutes and Percentage"
   ]
  },
  {
   "cell_type": "code",
   "execution_count": 113,
   "id": "efbeea02",
   "metadata": {},
   "outputs": [
    {
     "name": "stdout",
     "output_type": "stream",
     "text": [
      "Number of convergent traceroutes for Taiwan:  886\n",
      "Percentage of convergent traceroutes:  89.68 %\n"
     ]
    }
   ],
   "source": [
    "numOfConvergentTr = len(tw_df[tw_df.country == tw_df.dst_country_name])\n",
    "perOfConvergentTr = \"{:.2f}\".format((numOfConvergentTr / numOfTr) * 100)\n",
    "\n",
    "print(\"Number of convergent traceroutes for Taiwan: \", numOfConvergentTr)\n",
    "print(\"Percentage of convergent traceroutes: \", perOfConvergentTr, \"%\")"
   ]
  },
  {
   "cell_type": "markdown",
   "id": "180be6b8",
   "metadata": {},
   "source": [
    "### Number of Divergent Traceroutes and Percentage"
   ]
  },
  {
   "cell_type": "code",
   "execution_count": 114,
   "id": "9db2f06a",
   "metadata": {},
   "outputs": [
    {
     "name": "stdout",
     "output_type": "stream",
     "text": [
      "Number of divergent traceroutes for Taiwan:  102\n",
      "Percentage of divergent traceroutes:  10.32 %\n"
     ]
    }
   ],
   "source": [
    "numOfDivergentTr = len(tw_df[tw_df.country != tw_df.dst_country_name])\n",
    "perOfDivergentTr = \"{:.2f}\".format((numOfDivergentTr / numOfTr) * 100)\n",
    "\n",
    "print(\"Number of divergent traceroutes for Taiwan: \", numOfDivergentTr)\n",
    "print(\"Percentage of divergent traceroutes: \", perOfDivergentTr, \"%\")"
   ]
  },
  {
   "cell_type": "markdown",
   "id": "453269d0",
   "metadata": {},
   "source": [
    "### Number of Violators and Percentage"
   ]
  },
  {
   "cell_type": "code",
   "execution_count": 115,
   "id": "25c5f022",
   "metadata": {},
   "outputs": [
    {
     "name": "stdout",
     "output_type": "stream",
     "text": [
      "Number of violator traceroutes for Taiwan:  153\n",
      "Percentage of violator traceroutes:  15.49 %\n"
     ]
    }
   ],
   "source": [
    "numOfViolatorsTr = len(tw_df[tw_df.is_violator == True])\n",
    "perOfViolatorsTr = \"{:.2f}\".format((numOfViolatorsTr / numOfTr) * 100)\n",
    "\n",
    "print(\"Number of violator traceroutes for Taiwan: \", numOfViolatorsTr)\n",
    "print(\"Percentage of violator traceroutes: \", perOfViolatorsTr, \"%\")"
   ]
  },
  {
   "cell_type": "markdown",
   "id": "b1e2e4b0",
   "metadata": {},
   "source": [
    "### Freq of Destination Countries in Divergent Traceroutes"
   ]
  },
  {
   "cell_type": "code",
   "execution_count": 116,
   "id": "098b567e",
   "metadata": {},
   "outputs": [
    {
     "data": {
      "text/plain": [
       "dst_country_name\n",
       "USA    102\n",
       "Name: count, dtype: int64"
      ]
     },
     "execution_count": 116,
     "metadata": {},
     "output_type": "execute_result"
    }
   ],
   "source": [
    "dfTaiwanDivergent = tw_df[tw_df.country != tw_df.dst_country_name]\n",
    "dfTaiwanDivergent[\"dst_country_name\"].value_counts()\n"
   ]
  },
  {
   "cell_type": "markdown",
   "id": "a03c25f9",
   "metadata": {},
   "source": [
    "### Violator Countries Freq and Percentage"
   ]
  },
  {
   "cell_type": "code",
   "execution_count": 117,
   "id": "7a66d8df",
   "metadata": {},
   "outputs": [
    {
     "name": "stdout",
     "output_type": "stream",
     "text": [
      "Violator countries with corresponding number of traceroutes: {'HK': 116, 'JP': 38, 'US': 30, 'TH': 1}\n"
     ]
    }
   ],
   "source": [
    "violators = tw_df[tw_df.is_violator == True] \n",
    "# convert the string of traceroutes to a list \n",
    "try:\n",
    "    countries = ast.literal_eval(violators['violator_countries'])\n",
    "except:\n",
    "    countries = violators['violator_countries']\n",
    "list_countries = []\n",
    "for country in countries:\n",
    "    if pd.isnull(country):\n",
    "        continue\n",
    "    else:\n",
    "        list_from_string = ast.literal_eval(country)        \n",
    "        list_countries.append(list_from_string)\n",
    "violator_dict = {}\n",
    "for i in list_countries:\n",
    "    for j in i:\n",
    "        if j in violator_dict.keys():\n",
    "            violator_dict[j] = violator_dict[j]+1\n",
    "        else:\n",
    "            violator_dict[j] = 1\n",
    "print(\"Violator countries with corresponding number of traceroutes:\", violator_dict) \n",
    "violator_df = pd.DataFrame(violator_dict.keys(), columns =['Country Name'])\n",
    "per_list = []\n",
    "total = 0 \n",
    "for i in violator_dict.values():\n",
    "    total+=i\n",
    "for i in violator_dict.values():\n",
    "    per_list.append(round((i/total)*100,2))\n",
    "violator_df['Percentage of Violators'] = per_list"
   ]
  },
  {
   "cell_type": "markdown",
   "id": "0b115c27",
   "metadata": {},
   "source": [
    "### Histogram with the Violator Countries and Percentage of Violators"
   ]
  },
  {
   "cell_type": "code",
   "execution_count": 118,
   "id": "da610895",
   "metadata": {},
   "outputs": [
    {
     "data": {
      "image/png": "[encoded data removed]",
      "text/plain": [
       "<Figure size 640x480 with 1 Axes>"
      ]
     },
     "metadata": {},
     "output_type": "display_data"
    }
   ],
   "source": [
    "color = (0.1, # redness\n",
    "         0.3, # greenness\n",
    "         0.5, # blueness\n",
    "         0.7 # transparency\n",
    "        )\n",
    "         \n",
    "violator_df.plot.barh(x='Country Name', y='Percentage of Violators', stacked=True, color='#6caaa1')\n",
    "plt.savefig('tw.png')"
   ]
  },
  {
   "cell_type": "markdown",
   "id": "d1aeb84e",
   "metadata": {},
   "source": [
    "### Ping Tests"
   ]
  },
  {
   "cell_type": "code",
   "execution_count": 119,
   "id": "bed61a37",
   "metadata": {},
   "outputs": [
    {
     "name": "stdout",
     "output_type": "stream",
     "text": [
      "Requirement already satisfied: ripe.atlas.cousteau in /Users/shambhavimittal/anaconda3/lib/python3.11/site-packages (2.0.0)\r\n",
      "Requirement already satisfied: python-dateutil in /Users/shambhavimittal/anaconda3/lib/python3.11/site-packages (from ripe.atlas.cousteau) (2.8.2)\r\n",
      "Requirement already satisfied: requests>=2.7.0 in /Users/shambhavimittal/anaconda3/lib/python3.11/site-packages (from ripe.atlas.cousteau) (2.31.0)\r\n",
      "Requirement already satisfied: websocket-client~=1.3.1 in /Users/shambhavimittal/anaconda3/lib/python3.11/site-packages (from ripe.atlas.cousteau) (1.3.3)\r\n",
      "Requirement already satisfied: typing-extensions in /Users/shambhavimittal/anaconda3/lib/python3.11/site-packages (from ripe.atlas.cousteau) (4.7.1)\r\n",
      "Requirement already satisfied: charset-normalizer<4,>=2 in /Users/shambhavimittal/anaconda3/lib/python3.11/site-packages (from requests>=2.7.0->ripe.atlas.cousteau) (2.0.4)\r\n",
      "Requirement already satisfied: idna<4,>=2.5 in /Users/shambhavimittal/anaconda3/lib/python3.11/site-packages (from requests>=2.7.0->ripe.atlas.cousteau) (3.4)\r\n",
      "Requirement already satisfied: urllib3<3,>=1.21.1 in /Users/shambhavimittal/anaconda3/lib/python3.11/site-packages (from requests>=2.7.0->ripe.atlas.cousteau) (1.26.16)\r\n",
      "Requirement already satisfied: certifi>=2017.4.17 in /Users/shambhavimittal/anaconda3/lib/python3.11/site-packages (from requests>=2.7.0->ripe.atlas.cousteau) (2023.7.22)\r\n",
      "Requirement already satisfied: six>=1.5 in /Users/shambhavimittal/anaconda3/lib/python3.11/site-packages (from python-dateutil->ripe.atlas.cousteau) (1.16.0)\r\n"
     ]
    }
   ],
   "source": [
    "!pip install ripe.atlas.cousteau"
   ]
  },
  {
   "cell_type": "code",
   "execution_count": 120,
   "id": "6ff05d65",
   "metadata": {},
   "outputs": [],
   "source": [
    "probes_tw = '6818,61078,6907,20503,1002288,1004171'\n",
    "ATLAS_API_KEY = None #insert API key"
   ]
  },
  {
   "cell_type": "code",
   "execution_count": null,
   "id": "504e88b9",
   "metadata": {},
   "outputs": [],
   "source": [
    "def schedule_ping(target_ip, probes=probes_tw ):\n",
    "    ping = Ping(af = 4, target = target_ip, description = \"Ping to \" + target_ip , protocol = 'TCP')\n",
    "    source = AtlasSource(requested = 6, type = 'probes', value=probes)\n",
    "    tagger = MeasurementTagger(key=ATLAS_API_KEY)\n",
    "    atlas_request = AtlasCreateRequest(\n",
    "        key = ATLAS_API_KEY, \n",
    "        measurements = [ping], \n",
    "        sources = [source], \n",
    "        is_oneoff = True\n",
    "    )\n",
    "    logger.info('Scheduling v4 ping measurements from probes to %s', target_ip)\n",
    "    is_success, response = atlas_request.create()\n",
    "    if is_success:\n",
    "        msm_id = response['measurements'][0]\n",
    "#         tagger.add_tag(msm_id, 'cc_diff_tr')\n",
    "        logger.info('Done - Scheduled v4 ping measurements from probes to %s, id %s', target_ip, msm_id)\n",
    "    else:\n",
    "        logger.error('ERROR - cannot schedule v4 ping measurements from probes to %s', target_ip)\n",
    "        logger.error(response)\n",
    "        raise StopIteration('cannot schedule ping measurements from probes to {}'.format(target_ip))\n",
    "    return is_success, response\n",
    "\n",
    "\n",
    "schedule_ping('223.200.155.67')"
   ]
  },
  {
   "cell_type": "markdown",
   "id": "3eecdc21",
   "metadata": {},
   "source": [
    "### Calculate Mean Latencies"
   ]
  },
  {
   "cell_type": "code",
   "execution_count": 121,
   "id": "2917d9b8",
   "metadata": {},
   "outputs": [],
   "source": [
    "measurement_id = \"67941883\" # change the measurement id \n",
    "url = \"https://atlas.ripe.net/api/v2/measurements/\"+measurement_id+\"/results/?format=json\"\n",
    "filename = \"diff_hops.json\"\n",
    "urllib.request.urlretrieve(url, filename)\n",
    "content_type = urllib.request.urlopen(url).headers.get_content_type()"
   ]
  },
  {
   "cell_type": "code",
   "execution_count": 122,
   "id": "4b35d34c",
   "metadata": {},
   "outputs": [
    {
     "name": "stdout",
     "output_type": "stream",
     "text": [
      "1002288 : [0.957, 4.001, 20.183, -18.883, 0.471, 0.196, -0.119, 0.099, 0.53, 2.088, '0', '0', '0', '0', '0', '0']\n",
      "1002754 : [-1.281, 0.424, -0.267, 0.351, 0.555, -0.383, '0', '0', '0', '0', '0', '0']\n",
      "1004171 : [0.286, 1.385, -0.621, 1.115, -0.834, 3.948, -1.039, 0.52, 0.104, -0.126, 0.6, '0', '0', '0', '0', '0', '0', '0', '0']\n",
      "13961 : [6.799, '0', '0', '0', -0.801, 0.056, 3.004, -2.746, 11.314, -11.284, 8.474, -7.028, -1.513, 16.293, '0', '0', '0', '0', '0', '0']\n",
      "20503 : [1.022, 1.179, 6.343, -4.545, 1.905, 0.638, -2.045, '0', '0', '0', '0', '0', '0']\n",
      "61078 : [41.258, -3.621, -1.583, 25.021, 0.427, '0', '0', -0.543, '0', '0', '0', '0', '0', '0']\n",
      "61200 : [0.127, 0.24, 0.259, '0', '0', -0.417, '0', '0', '0', '0', '0', '0']\n",
      "62859 : [1.386, 0.171, 14.395, -14.391, 0.684, 1.81, -1.666, 0.325, 0.652, -0.394, '0', '0', '0', '0', '0', '0']\n",
      "6818 : [78.502, 105.926, -78.977, 0.312, 34.804, '0', '0', '0', '0', '0', '0']\n",
      "6907 : [1.547, '0', '0', -0.005, 195.202, -67.647, 0.106, -0.028, -11.012, 7.934, 127.294, -7.961, -134.205, 1.339, '0', '0', '0', '0', '0', '0']\n"
     ]
    }
   ],
   "source": [
    "f = open(filename)\n",
    "#load data from site into a json\n",
    "data_new = json.load(f)\n",
    "#has mean latencies for each probe\n",
    "diff ={}\n",
    "for i in data_new:\n",
    "    diff_curr = []\n",
    "    for j in range(len(i['result'])-1):\n",
    "        max1 = -1;\n",
    "        for m in i['result'][j]['result']:\n",
    "            if (m.get('rtt')):\n",
    "                max1 = max(m['rtt'],max1)\n",
    "        max2 = -1;\n",
    "        for m in i['result'][j+1]['result']:\n",
    "            if (m.get('rtt')):\n",
    "                max2 = max(m['rtt'],max2)\n",
    "        if (max1 !=-1 and max2 != -1):\n",
    "            diff_curr.append(round(max2-max1,3))\n",
    "        else:\n",
    "            diff_curr.append('0') \n",
    "    diff[i['prb_id']]= diff_curr\n",
    "for i in diff:\n",
    "    print(i, \":\",diff[i])"
   ]
  },
  {
   "cell_type": "markdown",
   "id": "ec54dd66",
   "metadata": {},
   "source": [
    "### To get a more in-depth analysis, filter data based on the interesting behavior"
   ]
  },
  {
   "cell_type": "code",
   "execution_count": 144,
   "id": "1aaa33d3",
   "metadata": {},
   "outputs": [
    {
     "data": {
      "text/html": [
       "<div>\n",
       "<style scoped>\n",
       "    .dataframe tbody tr th:only-of-type {\n",
       "        vertical-align: middle;\n",
       "    }\n",
       "\n",
       "    .dataframe tbody tr th {\n",
       "        vertical-align: top;\n",
       "    }\n",
       "\n",
       "    .dataframe thead th {\n",
       "        text-align: right;\n",
       "    }\n",
       "</style>\n",
       "<table border=\"1\" class=\"dataframe\">\n",
       "  <thead>\n",
       "    <tr style=\"text-align: right;\">\n",
       "      <th></th>\n",
       "      <th>country</th>\n",
       "      <th>dst_url</th>\n",
       "      <th>measurement_id</th>\n",
       "      <th>probe_ids</th>\n",
       "      <th>probe_addr</th>\n",
       "      <th>dst_addr</th>\n",
       "      <th>path_ip</th>\n",
       "      <th>mean_latencies</th>\n",
       "      <th>path_geo</th>\n",
       "      <th>dst_country</th>\n",
       "      <th>...</th>\n",
       "      <th>is_gcloud</th>\n",
       "      <th>is_cloudflare</th>\n",
       "      <th>is_major_cloud</th>\n",
       "      <th>is_cloud</th>\n",
       "      <th>dst_asn</th>\n",
       "      <th>dst_org</th>\n",
       "      <th>path_asns</th>\n",
       "      <th>path_orgs</th>\n",
       "      <th>dst_prefix</th>\n",
       "      <th>dst_is_anycast</th>\n",
       "    </tr>\n",
       "  </thead>\n",
       "  <tbody>\n",
       "    <tr>\n",
       "      <th>13725</th>\n",
       "      <td>Taiwan</td>\n",
       "      <td>www.trade.gov.tw</td>\n",
       "      <td>67941624</td>\n",
       "      <td>1002288</td>\n",
       "      <td>172.17.0.2</td>\n",
       "      <td>210.69.123.210</td>\n",
       "      <td>['172.17.0.1', '192.168.109.254', '106.104.194...</td>\n",
       "      <td>[0.23, 1.15, 5.36, 5.2, 7.45, 6.71, 7.36, 7.08...</td>\n",
       "      <td>['??', '??', 'TW', 'TW', 'TW', 'TW', 'TW', 'TW...</td>\n",
       "      <td>TW</td>\n",
       "      <td>...</td>\n",
       "      <td>False</td>\n",
       "      <td>False</td>\n",
       "      <td>False</td>\n",
       "      <td>False</td>\n",
       "      <td>4782</td>\n",
       "      <td>Data Communication Business Group,</td>\n",
       "      <td>['noasn', 'noasn', '4780', '4780', '4780', '47...</td>\n",
       "      <td>[None, None, 'Digital United Inc.', 'Digital U...</td>\n",
       "      <td>210.69.123</td>\n",
       "      <td>False</td>\n",
       "    </tr>\n",
       "    <tr>\n",
       "      <th>13726</th>\n",
       "      <td>Taiwan</td>\n",
       "      <td>www.trade.gov.tw</td>\n",
       "      <td>67941624</td>\n",
       "      <td>1002754</td>\n",
       "      <td>63.222.105.13</td>\n",
       "      <td>210.69.123.210</td>\n",
       "      <td>['63.222.105.2', '113.21.84.37', '103.123.252....</td>\n",
       "      <td>[0.79, 11.4, 0.82, 0.52, 0.8, 1.25, 1.16, 0.0,...</td>\n",
       "      <td>['TW', 'TW', 'TW', 'TW', 'TW', 'TW', 'TW', '*'...</td>\n",
       "      <td>TW</td>\n",
       "      <td>...</td>\n",
       "      <td>False</td>\n",
       "      <td>False</td>\n",
       "      <td>False</td>\n",
       "      <td>False</td>\n",
       "      <td>4782</td>\n",
       "      <td>Data Communication Business Group,</td>\n",
       "      <td>['3491_31713', 'noasn', 'noasn', '3462', '3462...</td>\n",
       "      <td>['PCCW Global, Inc.', None, None, 'Chunghwa Te...</td>\n",
       "      <td>210.69.123</td>\n",
       "      <td>False</td>\n",
       "    </tr>\n",
       "    <tr>\n",
       "      <th>13727</th>\n",
       "      <td>Taiwan</td>\n",
       "      <td>www.trade.gov.tw</td>\n",
       "      <td>67941624</td>\n",
       "      <td>1004171</td>\n",
       "      <td>172.17.0.2</td>\n",
       "      <td>210.69.123.210</td>\n",
       "      <td>['172.17.0.1', '10.121.32.1', '61.61.67.254', ...</td>\n",
       "      <td>[0.11, 0.49, 0.92, 1.05, 1.33, 1.29, 4.29, 3.5...</td>\n",
       "      <td>['??', '??', 'TW', '??', '??', '??', 'TW', 'TW...</td>\n",
       "      <td>TW</td>\n",
       "      <td>...</td>\n",
       "      <td>False</td>\n",
       "      <td>False</td>\n",
       "      <td>False</td>\n",
       "      <td>False</td>\n",
       "      <td>4782</td>\n",
       "      <td>Data Communication Business Group,</td>\n",
       "      <td>['noasn', 'noasn', '18049', 'noasn', 'noasn', ...</td>\n",
       "      <td>[None, None, 'Taiwan Infrastructure Network Te...</td>\n",
       "      <td>210.69.123</td>\n",
       "      <td>False</td>\n",
       "    </tr>\n",
       "    <tr>\n",
       "      <th>13728</th>\n",
       "      <td>Taiwan</td>\n",
       "      <td>www.trade.gov.tw</td>\n",
       "      <td>67941624</td>\n",
       "      <td>13961</td>\n",
       "      <td>192.168.0.204</td>\n",
       "      <td>210.69.123.210</td>\n",
       "      <td>['192.168.0.1', '219.91.21.254', '*', '*', '10...</td>\n",
       "      <td>[0.52, 6.37, 0.0, -1, 0.0, -1, 7.44, 6.33, 5.7...</td>\n",
       "      <td>['??', 'TW', '*', '*', '??', '??', '??', 'TW',...</td>\n",
       "      <td>TW</td>\n",
       "      <td>...</td>\n",
       "      <td>False</td>\n",
       "      <td>False</td>\n",
       "      <td>False</td>\n",
       "      <td>False</td>\n",
       "      <td>4782</td>\n",
       "      <td>Data Communication Business Group,</td>\n",
       "      <td>['noasn', '131627', 'noasn', 'noasn', 'noasn',...</td>\n",
       "      <td>[None, 'Peicity Digital Cable Television., LTD...</td>\n",
       "      <td>210.69.123</td>\n",
       "      <td>False</td>\n",
       "    </tr>\n",
       "    <tr>\n",
       "      <th>13729</th>\n",
       "      <td>Taiwan</td>\n",
       "      <td>www.trade.gov.tw</td>\n",
       "      <td>67941624</td>\n",
       "      <td>20503</td>\n",
       "      <td>192.168.100.102</td>\n",
       "      <td>210.69.123.210</td>\n",
       "      <td>['192.168.100.1', '192.168.111.1', '140.115.30...</td>\n",
       "      <td>[0.41, 1.46, 2.61, 3.2, 3.34, 4.33, 4.11, 5.12...</td>\n",
       "      <td>['??', '??', 'TW', 'TW', 'TW', 'TW', 'TW', 'TW...</td>\n",
       "      <td>TW</td>\n",
       "      <td>...</td>\n",
       "      <td>False</td>\n",
       "      <td>False</td>\n",
       "      <td>False</td>\n",
       "      <td>False</td>\n",
       "      <td>4782</td>\n",
       "      <td>Data Communication Business Group,</td>\n",
       "      <td>['noasn', 'noasn', '18420', '3462', '3462', 'n...</td>\n",
       "      <td>[None, None, 'National Central University', 'C...</td>\n",
       "      <td>210.69.123</td>\n",
       "      <td>False</td>\n",
       "    </tr>\n",
       "    <tr>\n",
       "      <th>13730</th>\n",
       "      <td>Taiwan</td>\n",
       "      <td>www.trade.gov.tw</td>\n",
       "      <td>67941624</td>\n",
       "      <td>61078</td>\n",
       "      <td>103.167.250.61</td>\n",
       "      <td>210.69.123.210</td>\n",
       "      <td>['103.167.250.33', '103.138.72.36', '63.222.11...</td>\n",
       "      <td>[2.11, 37.6, 39.44, 25.49, 65.95, 63.2, 0.0, -...</td>\n",
       "      <td>['TW', 'HK', 'HK', 'HK', 'TW', 'TW', '*', 'TW'...</td>\n",
       "      <td>TW</td>\n",
       "      <td>...</td>\n",
       "      <td>False</td>\n",
       "      <td>False</td>\n",
       "      <td>False</td>\n",
       "      <td>False</td>\n",
       "      <td>4782</td>\n",
       "      <td>Data Communication Business Group,</td>\n",
       "      <td>['38254', '138997', '3491_31713', '3491_31713'...</td>\n",
       "      <td>['Pang-Wei Tsai', 'Eons Data Communications Li...</td>\n",
       "      <td>210.69.123</td>\n",
       "      <td>False</td>\n",
       "    </tr>\n",
       "    <tr>\n",
       "      <th>13731</th>\n",
       "      <td>Taiwan</td>\n",
       "      <td>www.trade.gov.tw</td>\n",
       "      <td>67941624</td>\n",
       "      <td>61200</td>\n",
       "      <td>103.159.119.3</td>\n",
       "      <td>210.69.123.210</td>\n",
       "      <td>['103.159.119.2', '172.18.1.157', '172.24.1.11...</td>\n",
       "      <td>[0.54, 1.44, 1.07, 1.62, 0.0, -1, 2.03, 1.69, ...</td>\n",
       "      <td>['TW', '??', '??', '??', '*', 'TW', 'TW', '*',...</td>\n",
       "      <td>TW</td>\n",
       "      <td>...</td>\n",
       "      <td>False</td>\n",
       "      <td>False</td>\n",
       "      <td>False</td>\n",
       "      <td>False</td>\n",
       "      <td>4782</td>\n",
       "      <td>Data Communication Business Group,</td>\n",
       "      <td>['38856', 'noasn', 'noasn', 'noasn', 'noasn', ...</td>\n",
       "      <td>['Walks Cloud Inc.', None, None, None, None, N...</td>\n",
       "      <td>210.69.123</td>\n",
       "      <td>False</td>\n",
       "    </tr>\n",
       "    <tr>\n",
       "      <th>13732</th>\n",
       "      <td>Taiwan</td>\n",
       "      <td>www.trade.gov.tw</td>\n",
       "      <td>67941624</td>\n",
       "      <td>62859</td>\n",
       "      <td>192.168.8.199</td>\n",
       "      <td>210.69.123.210</td>\n",
       "      <td>['192.168.8.254', '118.150.144.254', '10.254.0...</td>\n",
       "      <td>[0.78, 2.31, 2.27, 4.49, 2.4, 2.95, 3.45, 2.91...</td>\n",
       "      <td>['??', 'TW', '??', '??', '??', 'TW', 'TW', 'TW...</td>\n",
       "      <td>TW</td>\n",
       "      <td>...</td>\n",
       "      <td>False</td>\n",
       "      <td>False</td>\n",
       "      <td>False</td>\n",
       "      <td>False</td>\n",
       "      <td>4782</td>\n",
       "      <td>Data Communication Business Group,</td>\n",
       "      <td>['noasn', '18419', 'noasn', 'noasn', 'noasn', ...</td>\n",
       "      <td>[None, 'DaDa Broadband LTD.', None, None, None...</td>\n",
       "      <td>210.69.123</td>\n",
       "      <td>False</td>\n",
       "    </tr>\n",
       "    <tr>\n",
       "      <th>13733</th>\n",
       "      <td>Taiwan</td>\n",
       "      <td>www.trade.gov.tw</td>\n",
       "      <td>67941624</td>\n",
       "      <td>6818</td>\n",
       "      <td>63.222.40.114</td>\n",
       "      <td>210.69.123.210</td>\n",
       "      <td>['63.222.40.113', '63.218.174.66', '211.22.33....</td>\n",
       "      <td>[0.95, 26.49, 106.52, 106.75, 107.28, 107.04, ...</td>\n",
       "      <td>['TW', 'HK', 'TW', 'TW', 'TW', 'TW', '*', '*',...</td>\n",
       "      <td>TW</td>\n",
       "      <td>...</td>\n",
       "      <td>False</td>\n",
       "      <td>False</td>\n",
       "      <td>False</td>\n",
       "      <td>False</td>\n",
       "      <td>4782</td>\n",
       "      <td>Data Communication Business Group,</td>\n",
       "      <td>['3491_31713', '3491_31713', '3462', 'noasn', ...</td>\n",
       "      <td>['PCCW Global, Inc.', 'PCCW Global, Inc.', 'Ch...</td>\n",
       "      <td>210.69.123</td>\n",
       "      <td>False</td>\n",
       "    </tr>\n",
       "    <tr>\n",
       "      <th>13734</th>\n",
       "      <td>Taiwan</td>\n",
       "      <td>www.trade.gov.tw</td>\n",
       "      <td>67941624</td>\n",
       "      <td>6907</td>\n",
       "      <td>103.153.176.122</td>\n",
       "      <td>210.69.123.210</td>\n",
       "      <td>['103.153.176.254', '103.51.91.5', '*', '66.28...</td>\n",
       "      <td>[0.19, 0.68, 0.0, -1, 31.21, 30.65, 158.94, 15...</td>\n",
       "      <td>['TW', 'TW', '*', 'JP', 'JP', 'US', 'US', 'US'...</td>\n",
       "      <td>TW</td>\n",
       "      <td>...</td>\n",
       "      <td>False</td>\n",
       "      <td>False</td>\n",
       "      <td>False</td>\n",
       "      <td>False</td>\n",
       "      <td>4782</td>\n",
       "      <td>Data Communication Business Group,</td>\n",
       "      <td>['131657', 'noasn', 'noasn', '174', '174', '17...</td>\n",
       "      <td>['Hong Da Storage Equipment Co., Ltd.', None, ...</td>\n",
       "      <td>210.69.123</td>\n",
       "      <td>False</td>\n",
       "    </tr>\n",
       "  </tbody>\n",
       "</table>\n",
       "<p>10 rows × 29 columns</p>\n",
       "</div>"
      ],
      "text/plain": [
       "      country           dst_url  measurement_id  probe_ids       probe_addr  \\\n",
       "13725  Taiwan  www.trade.gov.tw        67941624    1002288       172.17.0.2   \n",
       "13726  Taiwan  www.trade.gov.tw        67941624    1002754    63.222.105.13   \n",
       "13727  Taiwan  www.trade.gov.tw        67941624    1004171       172.17.0.2   \n",
       "13728  Taiwan  www.trade.gov.tw        67941624      13961    192.168.0.204   \n",
       "13729  Taiwan  www.trade.gov.tw        67941624      20503  192.168.100.102   \n",
       "13730  Taiwan  www.trade.gov.tw        67941624      61078   103.167.250.61   \n",
       "13731  Taiwan  www.trade.gov.tw        67941624      61200    103.159.119.3   \n",
       "13732  Taiwan  www.trade.gov.tw        67941624      62859    192.168.8.199   \n",
       "13733  Taiwan  www.trade.gov.tw        67941624       6818    63.222.40.114   \n",
       "13734  Taiwan  www.trade.gov.tw        67941624       6907  103.153.176.122   \n",
       "\n",
       "             dst_addr                                            path_ip  \\\n",
       "13725  210.69.123.210  ['172.17.0.1', '192.168.109.254', '106.104.194...   \n",
       "13726  210.69.123.210  ['63.222.105.2', '113.21.84.37', '103.123.252....   \n",
       "13727  210.69.123.210  ['172.17.0.1', '10.121.32.1', '61.61.67.254', ...   \n",
       "13728  210.69.123.210  ['192.168.0.1', '219.91.21.254', '*', '*', '10...   \n",
       "13729  210.69.123.210  ['192.168.100.1', '192.168.111.1', '140.115.30...   \n",
       "13730  210.69.123.210  ['103.167.250.33', '103.138.72.36', '63.222.11...   \n",
       "13731  210.69.123.210  ['103.159.119.2', '172.18.1.157', '172.24.1.11...   \n",
       "13732  210.69.123.210  ['192.168.8.254', '118.150.144.254', '10.254.0...   \n",
       "13733  210.69.123.210  ['63.222.40.113', '63.218.174.66', '211.22.33....   \n",
       "13734  210.69.123.210  ['103.153.176.254', '103.51.91.5', '*', '66.28...   \n",
       "\n",
       "                                          mean_latencies  \\\n",
       "13725  [0.23, 1.15, 5.36, 5.2, 7.45, 6.71, 7.36, 7.08...   \n",
       "13726  [0.79, 11.4, 0.82, 0.52, 0.8, 1.25, 1.16, 0.0,...   \n",
       "13727  [0.11, 0.49, 0.92, 1.05, 1.33, 1.29, 4.29, 3.5...   \n",
       "13728  [0.52, 6.37, 0.0, -1, 0.0, -1, 7.44, 6.33, 5.7...   \n",
       "13729  [0.41, 1.46, 2.61, 3.2, 3.34, 4.33, 4.11, 5.12...   \n",
       "13730  [2.11, 37.6, 39.44, 25.49, 65.95, 63.2, 0.0, -...   \n",
       "13731  [0.54, 1.44, 1.07, 1.62, 0.0, -1, 2.03, 1.69, ...   \n",
       "13732  [0.78, 2.31, 2.27, 4.49, 2.4, 2.95, 3.45, 2.91...   \n",
       "13733  [0.95, 26.49, 106.52, 106.75, 107.28, 107.04, ...   \n",
       "13734  [0.19, 0.68, 0.0, -1, 31.21, 30.65, 158.94, 15...   \n",
       "\n",
       "                                                path_geo dst_country  ...  \\\n",
       "13725  ['??', '??', 'TW', 'TW', 'TW', 'TW', 'TW', 'TW...          TW  ...   \n",
       "13726  ['TW', 'TW', 'TW', 'TW', 'TW', 'TW', 'TW', '*'...          TW  ...   \n",
       "13727  ['??', '??', 'TW', '??', '??', '??', 'TW', 'TW...          TW  ...   \n",
       "13728  ['??', 'TW', '*', '*', '??', '??', '??', 'TW',...          TW  ...   \n",
       "13729  ['??', '??', 'TW', 'TW', 'TW', 'TW', 'TW', 'TW...          TW  ...   \n",
       "13730  ['TW', 'HK', 'HK', 'HK', 'TW', 'TW', '*', 'TW'...          TW  ...   \n",
       "13731  ['TW', '??', '??', '??', '*', 'TW', 'TW', '*',...          TW  ...   \n",
       "13732  ['??', 'TW', '??', '??', '??', 'TW', 'TW', 'TW...          TW  ...   \n",
       "13733  ['TW', 'HK', 'TW', 'TW', 'TW', 'TW', '*', '*',...          TW  ...   \n",
       "13734  ['TW', 'TW', '*', 'JP', 'JP', 'US', 'US', 'US'...          TW  ...   \n",
       "\n",
       "      is_gcloud is_cloudflare is_major_cloud is_cloud  dst_asn  \\\n",
       "13725     False         False          False    False     4782   \n",
       "13726     False         False          False    False     4782   \n",
       "13727     False         False          False    False     4782   \n",
       "13728     False         False          False    False     4782   \n",
       "13729     False         False          False    False     4782   \n",
       "13730     False         False          False    False     4782   \n",
       "13731     False         False          False    False     4782   \n",
       "13732     False         False          False    False     4782   \n",
       "13733     False         False          False    False     4782   \n",
       "13734     False         False          False    False     4782   \n",
       "\n",
       "                                  dst_org  \\\n",
       "13725  Data Communication Business Group,   \n",
       "13726  Data Communication Business Group,   \n",
       "13727  Data Communication Business Group,   \n",
       "13728  Data Communication Business Group,   \n",
       "13729  Data Communication Business Group,   \n",
       "13730  Data Communication Business Group,   \n",
       "13731  Data Communication Business Group,   \n",
       "13732  Data Communication Business Group,   \n",
       "13733  Data Communication Business Group,   \n",
       "13734  Data Communication Business Group,   \n",
       "\n",
       "                                               path_asns  \\\n",
       "13725  ['noasn', 'noasn', '4780', '4780', '4780', '47...   \n",
       "13726  ['3491_31713', 'noasn', 'noasn', '3462', '3462...   \n",
       "13727  ['noasn', 'noasn', '18049', 'noasn', 'noasn', ...   \n",
       "13728  ['noasn', '131627', 'noasn', 'noasn', 'noasn',...   \n",
       "13729  ['noasn', 'noasn', '18420', '3462', '3462', 'n...   \n",
       "13730  ['38254', '138997', '3491_31713', '3491_31713'...   \n",
       "13731  ['38856', 'noasn', 'noasn', 'noasn', 'noasn', ...   \n",
       "13732  ['noasn', '18419', 'noasn', 'noasn', 'noasn', ...   \n",
       "13733  ['3491_31713', '3491_31713', '3462', 'noasn', ...   \n",
       "13734  ['131657', 'noasn', 'noasn', '174', '174', '17...   \n",
       "\n",
       "                                               path_orgs  dst_prefix  \\\n",
       "13725  [None, None, 'Digital United Inc.', 'Digital U...  210.69.123   \n",
       "13726  ['PCCW Global, Inc.', None, None, 'Chunghwa Te...  210.69.123   \n",
       "13727  [None, None, 'Taiwan Infrastructure Network Te...  210.69.123   \n",
       "13728  [None, 'Peicity Digital Cable Television., LTD...  210.69.123   \n",
       "13729  [None, None, 'National Central University', 'C...  210.69.123   \n",
       "13730  ['Pang-Wei Tsai', 'Eons Data Communications Li...  210.69.123   \n",
       "13731  ['Walks Cloud Inc.', None, None, None, None, N...  210.69.123   \n",
       "13732  [None, 'DaDa Broadband LTD.', None, None, None...  210.69.123   \n",
       "13733  ['PCCW Global, Inc.', 'PCCW Global, Inc.', 'Ch...  210.69.123   \n",
       "13734  ['Hong Da Storage Equipment Co., Ltd.', None, ...  210.69.123   \n",
       "\n",
       "       dst_is_anycast  \n",
       "13725           False  \n",
       "13726           False  \n",
       "13727           False  \n",
       "13728           False  \n",
       "13729           False  \n",
       "13730           False  \n",
       "13731           False  \n",
       "13732           False  \n",
       "13733           False  \n",
       "13734           False  \n",
       "\n",
       "[10 rows x 29 columns]"
      ]
     },
     "execution_count": 144,
     "metadata": {},
     "output_type": "execute_result"
    }
   ],
   "source": [
    "#filter violator traceroutes based on probes\n",
    "tw_df[(tw_df.probe_ids == 6818) & (tw_df.is_violator == True)] \n",
    "\n",
    "#filter convergent violator traceroutes based on probes\n",
    "tw_df[(tw_df.probe_ids == 61200) & (tw_df.is_violator == True) & (tw_df.is_convergent == False)] \n",
    "\n",
    "#filter violator traceroutes of a probe based on a specific destination\n",
    "subset = tw_df[(tw_df.is_violator) & (tw_df.probe_ids == 61078)]\n",
    "subset[subset.dst_org == \"National Chung Hsing University\"]\n",
    "\n",
    "#filter based on measurement id (acquired from ripe Atlas measurements)\n",
    "tw_df[tw_df.measurement_id == 67941624]\n",
    "\n",
    "#mix any of these and other relevant filters to find specific patterns in the data\n"
   ]
  },
  {
   "cell_type": "code",
   "execution_count": 124,
   "id": "2acc2ce9",
   "metadata": {},
   "outputs": [
    {
     "name": "stdout",
     "output_type": "stream",
     "text": [
      "['TW', 'TW', 'JP', 'JP', 'US', 'US', 'US', 'US', 'US', 'TW', 'TW', 'TW', 'TW']\n",
      "['103.153.176.254', '103.51.91.5', '*', '66.28.4.233', '154.54.83.190', '154.54.1.21', '154.54.42.101', '154.54.27.118', '38.19.140.82', '202.39.84.86', '211.72.108.54', '220.128.6.114', '220.128.11.150', '220.128.3.189', '*', '*', '*', '*', '*', '*']\n",
      "['TW', 'TW', 'JP', 'JP', 'US', 'US', 'US', 'US', 'US', 'TW', 'TW', 'TW', 'TW']\n",
      "['103.153.176.254', '103.51.91.5', '*', '66.28.4.233', '154.54.83.190', '154.54.1.21', '154.54.42.101', '154.54.27.118', '38.19.140.82', '202.39.84.86', '211.72.108.54', '220.128.6.114', '220.128.13.94', '220.128.1.253', '*', '*', '*', '*', '*', '*']\n",
      "['TW', 'TW', 'JP', 'JP', 'US', 'US', 'US', 'US', 'US', 'US', 'TW', 'TW', 'TW', 'TW']\n",
      "['103.153.176.254', '103.51.91.5', '*', '66.28.4.233', '154.54.83.190', '154.54.86.137', '154.54.5.101', '154.54.40.145', '154.54.3.70', '38.19.140.82', '202.39.84.86', '211.72.108.54', '220.128.31.10', '220.128.14.94', '220.128.2.249', '*', '*', '*', '*', '*', '*']\n",
      "['TW', 'TW', 'JP', 'JP', 'US', 'US', 'US', 'US', 'US', 'US', 'TW', 'TW', 'TW', 'TW']\n",
      "['103.153.176.254', '103.51.91.5', '*', '66.28.4.233', '154.54.83.190', '154.54.86.137', '154.54.5.101', '154.54.40.145', '154.54.3.70', '38.19.140.82', '202.39.84.86', '211.72.108.54', '220.128.31.10', '220.128.13.94', '220.128.3.85', '*', '*', '*', '*', '*', '*']\n",
      "['TW', 'TW', 'JP', 'JP', 'US', 'US', 'US', 'US', 'US', 'TW', 'TW', 'TW', 'TW']\n",
      "['103.153.176.254', '103.51.91.5', '*', '66.28.4.233', '154.54.83.190', '154.54.86.137', '154.54.5.101', '154.54.40.145', '154.54.3.70', '38.19.140.138', '211.72.108.54', '220.128.6.110', '220.128.11.150', '220.128.1.249', '*', '*', '*', '*', '*', '*']\n",
      "['TW', 'TW', 'JP', 'JP', 'US', 'US', 'US', 'US', 'US', 'TW', 'TW', 'TW', 'TW']\n",
      "['103.153.176.254', '103.51.91.5', '*', '66.28.4.233', '154.54.83.190', '154.54.86.137', '154.54.5.101', '154.54.40.145', '154.54.3.70', '38.19.140.138', '211.72.108.54', '220.128.31.26', '220.128.7.70', '220.128.4.85', '*', '*', '*', '*', '*', '*']\n",
      "['TW', 'TW', 'JP', 'JP', 'US', 'US', 'US', 'US', 'US', 'TW', 'TW', 'TW', 'TW']\n",
      "['103.153.176.254', '103.51.91.5', '*', '66.28.4.233', '154.54.83.190', '154.54.86.137', '154.54.5.101', '154.54.40.145', '154.54.3.70', '38.19.140.138', '211.72.108.54', '220.128.6.110', '220.128.7.70', '220.128.2.249', '*', '*', '*', '*', '*', '*']\n",
      "['TW', 'TW', 'JP', 'JP', 'US', 'US', 'US', 'US', 'US', 'TW', 'TW', 'TW', 'TW']\n",
      "['103.153.176.254', '103.51.91.5', '*', '66.28.4.233', '154.54.83.190', '154.54.86.137', '154.54.5.101', '154.54.40.145', '154.54.3.70', '38.19.140.138', '211.72.108.54', '220.128.6.110', '220.128.7.70', '220.128.2.253', '*', '*', '*', '*', '*', '*']\n",
      "['TW', 'TW', 'JP', 'JP', 'US', 'US', 'US', 'US', 'US', 'TW', 'TW', 'TW', 'TW']\n",
      "['103.153.176.254', '103.51.91.5', '*', '66.28.4.233', '154.54.83.190', '154.54.86.137', '154.54.5.101', '154.54.40.145', '154.54.3.70', '38.19.140.138', '211.72.108.54', '220.128.31.14', '220.128.11.150', '220.128.1.253', '*', '*', '*', '*', '*', '*']\n",
      "['TW', 'TW', 'JP', 'JP', 'US', 'US', 'US', 'US', 'US', 'US', 'TW', 'TW', 'TW', 'TW']\n",
      "['103.153.176.254', '103.51.91.5', '*', '66.28.4.233', '154.54.83.190', '154.54.86.137', '154.54.5.101', '154.54.40.145', '154.54.3.70', '38.19.140.82', '202.39.84.86', '211.72.108.54', '220.128.31.30', '220.128.14.94', '220.128.2.249', '*', '*', '*', '*', '*', '*']\n"
     ]
    }
   ],
   "source": [
    "# use to loop through fielterd data and display selected information based on columns\n",
    "# this loop is spefically looking for the ip '211.72.108.54' and printing out the clean traceroute and path_ip\n",
    "for index, row in tw_df.iterrows():\n",
    "    if (row[\"is_violator\"] == True and '211.72.108.54' in row[\"path_ip\"]):\n",
    "        print(row[\"clean_traceroute\"])\n",
    "        print(row[\"path_ip\"])"
   ]
  },
  {
   "cell_type": "markdown",
   "id": "8828975d",
   "metadata": {},
   "source": [
    "### Make a String into a List "
   ]
  },
  {
   "cell_type": "code",
   "execution_count": 125,
   "id": "0e1c66a8",
   "metadata": {},
   "outputs": [],
   "source": [
    "def stringToList(inputStr):\n",
    "    try:\n",
    "        paths = ast.literal_eval(inputStr)\n",
    "    except:\n",
    "        paths  = inputStr\n",
    "    outputList = []\n",
    "    for path in paths:\n",
    "        if pd.isnull(path):\n",
    "            continue\n",
    "        else:\n",
    "            list_from_string = ast.literal_eval(path)        \n",
    "            outputList.append(list_from_string)\n",
    "\n",
    "    return outputList"
   ]
  },
  {
   "cell_type": "markdown",
   "id": "50f82b49",
   "metadata": {},
   "source": [
    "### To find similarities/patterns between path ips/asns, compare violator and non-violator traceroutes "
   ]
  },
  {
   "cell_type": "code",
   "execution_count": 129,
   "id": "c78a5f4d",
   "metadata": {
    "scrolled": true
   },
   "outputs": [
    {
     "name": "stdout",
     "output_type": "stream",
     "text": [
      "['63.222.40.113', '63.218.174.66', '211.22.33.166', '220.128.6.226', '220.128.3.162', '220.128.7.113', '220.128.11.133', '202.39.91.77', '202.39.84.46', '202.39.82.1', '168.95.245.3']\n",
      "['63.222.40.113', '*', '211.22.33.166', '220.128.6.226', '220.128.3.162', '220.128.7.113', '220.128.11.133', '202.39.91.77', '202.39.84.46', '202.39.82.1', '168.95.245.3']\n",
      "\n",
      "['63.222.40.113', '63.218.174.66', '211.22.33.166', '220.128.6.250', '220.128.2.110', '*', '220.128.11.133', '202.39.91.77', '202.39.84.46', '202.39.82.1', '168.95.245.4']\n",
      "['63.222.40.113', '*', '211.22.33.166', '220.128.6.250', '220.128.2.110', '*', '220.128.11.133', '202.39.91.77', '202.39.84.46', '202.39.82.1', '168.95.245.4']\n",
      "\n",
      "['63.222.40.113', '63.218.174.126', '63.218.115.234', '45.60.149.40']\n",
      "['63.222.40.113', '63.223.9.102', '63.217.71.126', '104.18.27.27']\n",
      "\n",
      "['63.222.40.113', '63.218.174.126', '63.218.115.234', '45.60.149.40']\n",
      "['63.222.40.113', '63.223.9.102', '63.217.71.126', '104.18.21.69']\n",
      "\n",
      "['63.222.40.113', '63.218.174.66', '211.22.33.166', '220.128.6.250', '220.128.2.14', '220.128.7.69', '220.128.11.141', '202.39.91.37', '202.39.84.66', '202.39.82.13', '168.95.246.3']\n",
      "['63.222.40.113', '*', '211.22.33.166', '220.128.6.250', '220.128.2.14', '220.128.7.69', '220.128.11.141', '202.39.91.37', '202.39.84.66', '202.39.82.13', '168.95.246.3']\n",
      "\n",
      "['63.222.40.113', '63.218.174.66', '211.22.33.166', '220.128.6.226', '220.128.3.162', '220.128.11.149', '220.128.11.141', '202.39.91.37', '202.39.84.66', '202.39.82.13', '168.95.246.2']\n",
      "['63.222.40.113', '*', '211.22.33.166', '220.128.6.226', '220.128.3.162', '220.128.11.149', '220.128.11.141', '202.39.91.37', '202.39.84.66', '202.39.82.13', '168.95.246.2']\n",
      "\n",
      "['63.222.40.113', '63.218.174.66', '211.22.33.166', '220.128.6.226', '220.128.3.154', '220.128.13.93', '220.128.11.141', '202.39.91.37', '202.39.84.66', '202.39.82.13', '168.95.246.1']\n",
      "['63.222.40.113', '*', '211.22.33.166', '220.128.6.226', '220.128.3.154', '220.128.13.93', '220.128.11.141', '202.39.91.37', '202.39.84.66', '202.39.82.13', '168.95.246.1']\n",
      "\n",
      "['63.222.40.113', '63.218.174.66', '211.22.33.166', '220.128.6.250', '220.128.2.14', '220.128.7.69', '220.128.11.141', '202.39.91.29', '202.39.84.54', '202.39.82.5', '168.95.245.2']\n",
      "['63.222.40.113', '*', '211.22.33.166', '220.128.6.250', '220.128.2.14', '220.128.7.69', '220.128.11.141', '202.39.91.29', '202.39.84.54', '202.39.82.5', '168.95.245.2']\n",
      "\n",
      "['63.222.40.113', '63.218.174.126', '63.218.115.234', '45.60.149.40']\n",
      "['63.222.40.113', '63.223.9.102', '63.222.40.46', '104.116.243.51']\n",
      "\n",
      "['63.222.40.113', '63.218.174.66', '211.22.33.166', '220.128.6.250', '220.128.2.110', '*', '220.128.11.133', '202.39.91.77', '202.39.84.46', '202.39.82.1', '168.95.245.4']\n",
      "['63.222.40.113', '*', '211.22.33.166', '220.128.6.250', '220.128.2.110', '*', '220.128.11.133', '202.39.91.77', '202.39.84.46', '202.39.82.1', '168.95.245.4']\n",
      "\n"
     ]
    }
   ],
   "source": [
    "#convert ip strings to list; could also be done for asn or anything that needs to be analyzed\n",
    "violator_ips = stringToList(tw_df[(tw_df.probe_ids == 6818) & (tw_df.is_violator == True)].path_ip)\n",
    "nonviolator_ips = stringToList(tw_df[(tw_df.probe_ids == 6818) & (tw_df.is_violator == False)].path_ip)\n",
    "\n",
    "for nonviolator_ip in nonviolator_ips:\n",
    "        for violator_ip in violator_ips:    \n",
    "            #change based on the pattern you have observed\n",
    "            if (violator_ip[2:-2] == nonviolator_ip[2:-2]): \n",
    "                print(violator_ip)\n",
    "                print(nonviolator_ip)\n",
    "                print()\n",
    "                break"
   ]
  },
  {
   "cell_type": "markdown",
   "id": "ac2c31e9",
   "metadata": {},
   "source": [
    "# Country Aanalysis: China"
   ]
  },
  {
   "cell_type": "markdown",
   "id": "5868ea89",
   "metadata": {},
   "source": [
    "## Loading Data"
   ]
  },
  {
   "cell_type": "code",
   "execution_count": 130,
   "id": "1d6b88d6",
   "metadata": {},
   "outputs": [],
   "source": [
    "#filter out probes 50179 and 7030 because they are in Hong Kong\n",
    "cn_df = df[(df.country == \"China\") & (df.probe_ids != 50179) & (df.probe_ids != 7030)] "
   ]
  },
  {
   "cell_type": "markdown",
   "id": "f15a4c39",
   "metadata": {},
   "source": [
    "### Number of Traceroutes"
   ]
  },
  {
   "cell_type": "code",
   "execution_count": 131,
   "id": "ff231886",
   "metadata": {},
   "outputs": [
    {
     "name": "stdout",
     "output_type": "stream",
     "text": [
      "Number of Traceroutes collected for China:  687\n"
     ]
    }
   ],
   "source": [
    "numOfTr = len(cn_df)\n",
    "print(\"Number of Traceroutes collected for China: \", numOfTr)"
   ]
  },
  {
   "cell_type": "markdown",
   "id": "25835dc5",
   "metadata": {},
   "source": [
    "### Number of Unique Websites"
   ]
  },
  {
   "cell_type": "code",
   "execution_count": 132,
   "id": "773ccb7f",
   "metadata": {},
   "outputs": [
    {
     "name": "stdout",
     "output_type": "stream",
     "text": [
      "Number of Unique websites for Taiwan:  99\n"
     ]
    }
   ],
   "source": [
    "numOfUniqueWebsites = len(set(cn_df.dst_url))\n",
    "print(\"Number of Unique websites for Taiwan: \", numOfUniqueWebsites)"
   ]
  },
  {
   "cell_type": "markdown",
   "id": "61653e3d",
   "metadata": {},
   "source": [
    "### Number of Unique Ripe Atlas Probes"
   ]
  },
  {
   "cell_type": "code",
   "execution_count": 133,
   "id": "bfac1be0",
   "metadata": {},
   "outputs": [
    {
     "name": "stdout",
     "output_type": "stream",
     "text": [
      "Number of Unique RIPE Atlas probes:  7\n"
     ]
    }
   ],
   "source": [
    "numOfUniqueProbes = len(set(cn_df.probe_ids))\n",
    "print(\"Number of Unique RIPE Atlas probes: \", numOfUniqueProbes)"
   ]
  },
  {
   "cell_type": "markdown",
   "id": "70f53b4c",
   "metadata": {},
   "source": [
    "### Number of Convergent Traceroutes and Percentage"
   ]
  },
  {
   "cell_type": "code",
   "execution_count": 134,
   "id": "596a820f",
   "metadata": {},
   "outputs": [
    {
     "name": "stdout",
     "output_type": "stream",
     "text": [
      "Number of convergent traceroutes for China:  678\n",
      "Percentage of convergent traceroutes:  98.69 %\n"
     ]
    }
   ],
   "source": [
    "numOfConvergentTr = len(cn_df[cn_df.country == cn_df.dst_country_name])\n",
    "perOfConvergentTr = \"{:.2f}\".format((numOfConvergentTr / numOfTr) * 100)\n",
    "\n",
    "print(\"Number of convergent traceroutes for China: \", numOfConvergentTr)\n",
    "print(\"Percentage of convergent traceroutes: \", perOfConvergentTr, \"%\")"
   ]
  },
  {
   "cell_type": "markdown",
   "id": "e511361f",
   "metadata": {},
   "source": [
    "### Number of Divergent Traceroutes and Percentage"
   ]
  },
  {
   "cell_type": "code",
   "execution_count": 135,
   "id": "5a941569",
   "metadata": {},
   "outputs": [
    {
     "name": "stdout",
     "output_type": "stream",
     "text": [
      "Number of divergent traceroutes for China:  9\n",
      "Percentage of divergent traceroutes:  1.31 %\n"
     ]
    }
   ],
   "source": [
    "numOfDivergentTr = len(cn_df[cn_df.country != cn_df.dst_country_name])\n",
    "perOfDivergentTr = \"{:.2f}\".format((numOfDivergentTr / numOfTr) * 100)\n",
    "\n",
    "print(\"Number of divergent traceroutes for China: \", numOfDivergentTr)\n",
    "print(\"Percentage of divergent traceroutes: \", perOfDivergentTr, \"%\")"
   ]
  },
  {
   "cell_type": "markdown",
   "id": "abf73510",
   "metadata": {},
   "source": [
    "### Number of Violators and Percentage"
   ]
  },
  {
   "cell_type": "code",
   "execution_count": 136,
   "id": "45b7ca18",
   "metadata": {},
   "outputs": [
    {
     "name": "stdout",
     "output_type": "stream",
     "text": [
      "Number of violator traceroutes for China:  27\n",
      "Percentage of violator traceroutes:  3.93 %\n"
     ]
    }
   ],
   "source": [
    "numOfViolatorsTr = len(cn_df[cn_df.is_violator == True])\n",
    "perOfViolatorsTr = \"{:.2f}\".format((numOfViolatorsTr / numOfTr) * 100)\n",
    "\n",
    "print(\"Number of violator traceroutes for China: \", numOfViolatorsTr)\n",
    "print(\"Percentage of violator traceroutes: \", perOfViolatorsTr, \"%\")"
   ]
  },
  {
   "cell_type": "markdown",
   "id": "962f00c4",
   "metadata": {},
   "source": [
    "### Freq of Destination Countries in Divergent Traceroutes"
   ]
  },
  {
   "cell_type": "code",
   "execution_count": 137,
   "id": "ab033dfb",
   "metadata": {},
   "outputs": [
    {
     "data": {
      "text/plain": [
       "dst_country_name\n",
       "USA    9\n",
       "Name: count, dtype: int64"
      ]
     },
     "execution_count": 137,
     "metadata": {},
     "output_type": "execute_result"
    }
   ],
   "source": [
    "dfChinaDivergent = cn_df[cn_df.country != cn_df.dst_country_name]\n",
    "dfChinaDivergent[\"dst_country_name\"].value_counts()\n"
   ]
  },
  {
   "cell_type": "markdown",
   "id": "f6d3251b",
   "metadata": {},
   "source": [
    "### Violator Countries Freq and Percentage"
   ]
  },
  {
   "cell_type": "code",
   "execution_count": 138,
   "id": "8282c900",
   "metadata": {},
   "outputs": [
    {
     "name": "stdout",
     "output_type": "stream",
     "text": [
      "Violator countries with corresponding number of traceroutes: {'US': 27}\n"
     ]
    }
   ],
   "source": [
    "violators = cn_df[cn_df.is_violator == True] \n",
    "# convert the string of traceroutes to a list \n",
    "try:\n",
    "    countries = ast.literal_eval(violators['violator_countries'])\n",
    "except:\n",
    "    countries = violators['violator_countries']\n",
    "list_countries = []\n",
    "for country in countries:\n",
    "    if pd.isnull(country):\n",
    "        continue\n",
    "    else:\n",
    "        list_from_string = ast.literal_eval(country)        \n",
    "        list_countries.append(list_from_string)\n",
    "violator_dict = {}\n",
    "for i in list_countries:\n",
    "    for j in i:\n",
    "        if j in violator_dict.keys():\n",
    "            violator_dict[j] = violator_dict[j]+1\n",
    "        else:\n",
    "            violator_dict[j] = 1\n",
    "print(\"Violator countries with corresponding number of traceroutes:\", violator_dict) \n",
    "violator_df = pd.DataFrame(violator_dict.keys(), columns =['Country Name'])\n",
    "per_list = []\n",
    "total = 0 \n",
    "for i in violator_dict.values():\n",
    "    total+=i\n",
    "for i in violator_dict.values():\n",
    "    per_list.append(round((i/total)*100,2))\n",
    "violator_df['Percentage of Violators'] = per_list"
   ]
  },
  {
   "cell_type": "markdown",
   "id": "11cba7f0",
   "metadata": {},
   "source": [
    "### Histogram with the Violator Countries and Percentage of Violators"
   ]
  },
  {
   "cell_type": "code",
   "execution_count": 139,
   "id": "f3f694f1",
   "metadata": {},
   "outputs": [
    {
     "data": {
      "text/plain": [
       "<Axes: ylabel='Country Name'>"
      ]
     },
     "execution_count": 139,
     "metadata": {},
     "output_type": "execute_result"
    },
    {
     "data": {
      "image/png": "[encoded data removed]",
      "text/plain": [
       "<Figure size 640x480 with 1 Axes>"
      ]
     },
     "metadata": {},
     "output_type": "display_data"
    }
   ],
   "source": [
    "color = (0.1, # redness\n",
    "         0.3, # greenness\n",
    "         0.5, # blueness\n",
    "         0.7 # transparency\n",
    "        )\n",
    "         \n",
    "violator_df.plot.barh(x='Country Name', y='Percentage of Violators', stacked=True, color='#6caaa1')"
   ]
  },
  {
   "cell_type": "markdown",
   "id": "dc0b4bc7",
   "metadata": {},
   "source": [
    "### Ping Tests"
   ]
  },
  {
   "cell_type": "code",
   "execution_count": 140,
   "id": "ecc63738",
   "metadata": {},
   "outputs": [],
   "source": [
    "probes_cn = '1003540,1005736,1005738,1005739,53274,55328'\n",
    "ATLAS_API_KEY = None #insert API key"
   ]
  },
  {
   "cell_type": "code",
   "execution_count": null,
   "id": "3823440a",
   "metadata": {},
   "outputs": [],
   "source": [
    "def schedule_ping(target_ip, probes=probes_cn ):\n",
    "    ping = Ping(af = 4, target = target_ip, description = \"Ping to \" + target_ip , protocol = 'TCP')\n",
    "    source = AtlasSource(requested = 6, type = 'probes', value=probes)\n",
    "    tagger = MeasurementTagger(key=ATLAS_API_KEY)\n",
    "    atlas_request = AtlasCreateRequest(\n",
    "        key = ATLAS_API_KEY, \n",
    "        measurements = [ping], \n",
    "        sources = [source], \n",
    "        is_oneoff = True\n",
    "    )\n",
    "    logger.info('Scheduling v4 ping measurements from probes to %s', target_ip)\n",
    "    is_success, response = atlas_request.create()\n",
    "    if is_success:\n",
    "        msm_id = response['measurements'][0]\n",
    "#         tagger.add_tag(msm_id, 'cc_diff_tr')\n",
    "        logger.info('Done - Scheduled v4 ping measurements from probes to %s, id %s', target_ip, msm_id)\n",
    "    else:\n",
    "        logger.error('ERROR - cannot schedule v4 ping measurements from probes to %s', target_ip)\n",
    "        logger.error(response)\n",
    "        raise StopIteration('cannot schedule ping measurements from probes to {}'.format(target_ip))\n",
    "    return is_success, response\n",
    "\n",
    "\n",
    "schedule_ping('223.200.155.67')"
   ]
  },
  {
   "cell_type": "markdown",
   "id": "5d20b27a",
   "metadata": {},
   "source": [
    "### To get a more in-depth analysis, filter data based on the interesting behavior"
   ]
  },
  {
   "cell_type": "code",
   "execution_count": 154,
   "id": "6682aa0a",
   "metadata": {},
   "outputs": [
    {
     "data": {
      "text/html": [
       "<div>\n",
       "<style scoped>\n",
       "    .dataframe tbody tr th:only-of-type {\n",
       "        vertical-align: middle;\n",
       "    }\n",
       "\n",
       "    .dataframe tbody tr th {\n",
       "        vertical-align: top;\n",
       "    }\n",
       "\n",
       "    .dataframe thead th {\n",
       "        text-align: right;\n",
       "    }\n",
       "</style>\n",
       "<table border=\"1\" class=\"dataframe\">\n",
       "  <thead>\n",
       "    <tr style=\"text-align: right;\">\n",
       "      <th></th>\n",
       "      <th>country</th>\n",
       "      <th>dst_url</th>\n",
       "      <th>measurement_id</th>\n",
       "      <th>probe_ids</th>\n",
       "      <th>probe_addr</th>\n",
       "      <th>dst_addr</th>\n",
       "      <th>path_ip</th>\n",
       "      <th>mean_latencies</th>\n",
       "      <th>path_geo</th>\n",
       "      <th>dst_country</th>\n",
       "      <th>...</th>\n",
       "      <th>is_gcloud</th>\n",
       "      <th>is_cloudflare</th>\n",
       "      <th>is_major_cloud</th>\n",
       "      <th>is_cloud</th>\n",
       "      <th>dst_asn</th>\n",
       "      <th>dst_org</th>\n",
       "      <th>path_asns</th>\n",
       "      <th>path_orgs</th>\n",
       "      <th>dst_prefix</th>\n",
       "      <th>dst_is_anycast</th>\n",
       "    </tr>\n",
       "  </thead>\n",
       "  <tbody>\n",
       "    <tr>\n",
       "      <th>3797</th>\n",
       "      <td>China</td>\n",
       "      <td>customs.gov.cn</td>\n",
       "      <td>68064769</td>\n",
       "      <td>1003540</td>\n",
       "      <td>172.19.59.164</td>\n",
       "      <td>202.127.48.0</td>\n",
       "      <td>['26.10.167.86', '11.73.56.174', '11.73.33.57'...</td>\n",
       "      <td>[1.55, 1.34, 1.35, 1.77, 1.71, 3.42, 0.0, -1, ...</td>\n",
       "      <td>['CN', 'CN', 'CN', 'CN', '??', 'CN', '*', '*',...</td>\n",
       "      <td>CN</td>\n",
       "      <td>...</td>\n",
       "      <td>False</td>\n",
       "      <td>False</td>\n",
       "      <td>False</td>\n",
       "      <td>False</td>\n",
       "      <td>4847</td>\n",
       "      <td>China Networks Inter-Exchange</td>\n",
       "      <td>['749', '749', '749', '749', 'noasn', '749', '...</td>\n",
       "      <td>['DoD Network Information Center', 'DoD Networ...</td>\n",
       "      <td>202.127.48</td>\n",
       "      <td>False</td>\n",
       "    </tr>\n",
       "    <tr>\n",
       "      <th>3798</th>\n",
       "      <td>China</td>\n",
       "      <td>customs.gov.cn</td>\n",
       "      <td>68064769</td>\n",
       "      <td>1005736</td>\n",
       "      <td>172.17.0.2</td>\n",
       "      <td>202.127.48.0</td>\n",
       "      <td>['172.17.0.1', '10.33.116.190', '*', '10.102.1...</td>\n",
       "      <td>[0.1, 1.65, 0.0, -1, 3.6, 4.23, 3.29, 4.3, 4.8...</td>\n",
       "      <td>['??', '??', '*', '??', 'CN', 'CN', 'CN', 'CN'...</td>\n",
       "      <td>CN</td>\n",
       "      <td>...</td>\n",
       "      <td>False</td>\n",
       "      <td>False</td>\n",
       "      <td>False</td>\n",
       "      <td>False</td>\n",
       "      <td>4847</td>\n",
       "      <td>China Networks Inter-Exchange</td>\n",
       "      <td>['noasn', 'noasn', 'noasn', 'noasn', 'noasn', ...</td>\n",
       "      <td>[None, None, None, None, None, 'DoD Network In...</td>\n",
       "      <td>202.127.48</td>\n",
       "      <td>False</td>\n",
       "    </tr>\n",
       "    <tr>\n",
       "      <th>3799</th>\n",
       "      <td>China</td>\n",
       "      <td>customs.gov.cn</td>\n",
       "      <td>68064769</td>\n",
       "      <td>1005738</td>\n",
       "      <td>172.17.0.2</td>\n",
       "      <td>202.127.48.0</td>\n",
       "      <td>['172.17.0.1', '11.209.113.2', '11.73.4.81', '...</td>\n",
       "      <td>[0.04, 0.14, 6.56, 11.37, 1.38, 1.24, 0.0, -1,...</td>\n",
       "      <td>['??', 'CN', 'CN', 'CN', 'CN', 'CN', '*', 'CN'...</td>\n",
       "      <td>CN</td>\n",
       "      <td>...</td>\n",
       "      <td>False</td>\n",
       "      <td>False</td>\n",
       "      <td>False</td>\n",
       "      <td>False</td>\n",
       "      <td>4847</td>\n",
       "      <td>China Networks Inter-Exchange</td>\n",
       "      <td>['noasn', '749', '749', '749', '45102', '45102...</td>\n",
       "      <td>[None, 'DoD Network Information Center', 'DoD ...</td>\n",
       "      <td>202.127.48</td>\n",
       "      <td>False</td>\n",
       "    </tr>\n",
       "    <tr>\n",
       "      <th>3800</th>\n",
       "      <td>China</td>\n",
       "      <td>customs.gov.cn</td>\n",
       "      <td>68064769</td>\n",
       "      <td>1005739</td>\n",
       "      <td>172.17.0.2</td>\n",
       "      <td>202.127.48.0</td>\n",
       "      <td>['172.17.0.1', '10.12.32.6', '*', '11.54.240.1...</td>\n",
       "      <td>[0.03, 1.48, 0.0, -1, 1.26, 7.78, 8.85, 0.0, -...</td>\n",
       "      <td>['??', '??', '*', 'CN', '??', 'CN', '*', 'CN',...</td>\n",
       "      <td>CN</td>\n",
       "      <td>...</td>\n",
       "      <td>False</td>\n",
       "      <td>False</td>\n",
       "      <td>False</td>\n",
       "      <td>False</td>\n",
       "      <td>4847</td>\n",
       "      <td>China Networks Inter-Exchange</td>\n",
       "      <td>['noasn', 'noasn', 'noasn', '749', 'noasn', '7...</td>\n",
       "      <td>[None, None, None, 'DoD Network Information Ce...</td>\n",
       "      <td>202.127.48</td>\n",
       "      <td>False</td>\n",
       "    </tr>\n",
       "    <tr>\n",
       "      <th>3802</th>\n",
       "      <td>China</td>\n",
       "      <td>customs.gov.cn</td>\n",
       "      <td>68064769</td>\n",
       "      <td>53274</td>\n",
       "      <td>192.168.1.241</td>\n",
       "      <td>202.127.48.0</td>\n",
       "      <td>['192.168.1.254', '192.168.1.1', '100.84.128.1...</td>\n",
       "      <td>[1.82, 1.63, 4.66, 6.08, 22.15, 0.0, -1, 29.14...</td>\n",
       "      <td>['??', '??', '??', 'CN', 'CN', '*', 'CN', 'CN'...</td>\n",
       "      <td>CN</td>\n",
       "      <td>...</td>\n",
       "      <td>False</td>\n",
       "      <td>False</td>\n",
       "      <td>False</td>\n",
       "      <td>False</td>\n",
       "      <td>4847</td>\n",
       "      <td>China Networks Inter-Exchange</td>\n",
       "      <td>['noasn', 'noasn', 'noasn', '4134', '4134', 'n...</td>\n",
       "      <td>[None, None, None, 'No.31,Jin-rong Street', 'N...</td>\n",
       "      <td>202.127.48</td>\n",
       "      <td>False</td>\n",
       "    </tr>\n",
       "    <tr>\n",
       "      <th>3803</th>\n",
       "      <td>China</td>\n",
       "      <td>customs.gov.cn</td>\n",
       "      <td>68064769</td>\n",
       "      <td>55328</td>\n",
       "      <td>192.168.1.86</td>\n",
       "      <td>202.127.48.0</td>\n",
       "      <td>['192.168.1.1', '36.20.60.1', '61.164.19.10', ...</td>\n",
       "      <td>[0.97, 21.87, 2.82, 3.56, 0.0, -1, 0.0, -1, 0....</td>\n",
       "      <td>['??', 'CN', 'CN', 'CN', '*', '*', '*', 'CN', ...</td>\n",
       "      <td>CN</td>\n",
       "      <td>...</td>\n",
       "      <td>False</td>\n",
       "      <td>False</td>\n",
       "      <td>False</td>\n",
       "      <td>False</td>\n",
       "      <td>4847</td>\n",
       "      <td>China Networks Inter-Exchange</td>\n",
       "      <td>['noasn', '4134', '4134', '4134', 'noasn', 'no...</td>\n",
       "      <td>[None, 'No.31,Jin-rong Street', 'No.31,Jin-ron...</td>\n",
       "      <td>202.127.48</td>\n",
       "      <td>False</td>\n",
       "    </tr>\n",
       "    <tr>\n",
       "      <th>3804</th>\n",
       "      <td>China</td>\n",
       "      <td>customs.gov.cn</td>\n",
       "      <td>68064769</td>\n",
       "      <td>60314</td>\n",
       "      <td>192.168.71.43</td>\n",
       "      <td>202.127.48.0</td>\n",
       "      <td>['192.168.71.1', '180.154.35.1', '61.172.65.20...</td>\n",
       "      <td>[2.85, 3.68, 3.64, 7.08, 0.0, -1, 26.87, 0.0, ...</td>\n",
       "      <td>['??', 'CN', 'CN', 'CN', '*', 'CN', '*', '*', ...</td>\n",
       "      <td>CN</td>\n",
       "      <td>...</td>\n",
       "      <td>False</td>\n",
       "      <td>False</td>\n",
       "      <td>False</td>\n",
       "      <td>False</td>\n",
       "      <td>4847</td>\n",
       "      <td>China Networks Inter-Exchange</td>\n",
       "      <td>['noasn', '4812', '4812', '4812', 'noasn', '41...</td>\n",
       "      <td>[None, 'China Telecom (Group)', 'China Telecom...</td>\n",
       "      <td>202.127.48</td>\n",
       "      <td>False</td>\n",
       "    </tr>\n",
       "  </tbody>\n",
       "</table>\n",
       "<p>7 rows × 29 columns</p>\n",
       "</div>"
      ],
      "text/plain": [
       "     country         dst_url  measurement_id  probe_ids     probe_addr  \\\n",
       "3797   China  customs.gov.cn        68064769    1003540  172.19.59.164   \n",
       "3798   China  customs.gov.cn        68064769    1005736     172.17.0.2   \n",
       "3799   China  customs.gov.cn        68064769    1005738     172.17.0.2   \n",
       "3800   China  customs.gov.cn        68064769    1005739     172.17.0.2   \n",
       "3802   China  customs.gov.cn        68064769      53274  192.168.1.241   \n",
       "3803   China  customs.gov.cn        68064769      55328   192.168.1.86   \n",
       "3804   China  customs.gov.cn        68064769      60314  192.168.71.43   \n",
       "\n",
       "          dst_addr                                            path_ip  \\\n",
       "3797  202.127.48.0  ['26.10.167.86', '11.73.56.174', '11.73.33.57'...   \n",
       "3798  202.127.48.0  ['172.17.0.1', '10.33.116.190', '*', '10.102.1...   \n",
       "3799  202.127.48.0  ['172.17.0.1', '11.209.113.2', '11.73.4.81', '...   \n",
       "3800  202.127.48.0  ['172.17.0.1', '10.12.32.6', '*', '11.54.240.1...   \n",
       "3802  202.127.48.0  ['192.168.1.254', '192.168.1.1', '100.84.128.1...   \n",
       "3803  202.127.48.0  ['192.168.1.1', '36.20.60.1', '61.164.19.10', ...   \n",
       "3804  202.127.48.0  ['192.168.71.1', '180.154.35.1', '61.172.65.20...   \n",
       "\n",
       "                                         mean_latencies  \\\n",
       "3797  [1.55, 1.34, 1.35, 1.77, 1.71, 3.42, 0.0, -1, ...   \n",
       "3798  [0.1, 1.65, 0.0, -1, 3.6, 4.23, 3.29, 4.3, 4.8...   \n",
       "3799  [0.04, 0.14, 6.56, 11.37, 1.38, 1.24, 0.0, -1,...   \n",
       "3800  [0.03, 1.48, 0.0, -1, 1.26, 7.78, 8.85, 0.0, -...   \n",
       "3802  [1.82, 1.63, 4.66, 6.08, 22.15, 0.0, -1, 29.14...   \n",
       "3803  [0.97, 21.87, 2.82, 3.56, 0.0, -1, 0.0, -1, 0....   \n",
       "3804  [2.85, 3.68, 3.64, 7.08, 0.0, -1, 26.87, 0.0, ...   \n",
       "\n",
       "                                               path_geo dst_country  ...  \\\n",
       "3797  ['CN', 'CN', 'CN', 'CN', '??', 'CN', '*', '*',...          CN  ...   \n",
       "3798  ['??', '??', '*', '??', 'CN', 'CN', 'CN', 'CN'...          CN  ...   \n",
       "3799  ['??', 'CN', 'CN', 'CN', 'CN', 'CN', '*', 'CN'...          CN  ...   \n",
       "3800  ['??', '??', '*', 'CN', '??', 'CN', '*', 'CN',...          CN  ...   \n",
       "3802  ['??', '??', '??', 'CN', 'CN', '*', 'CN', 'CN'...          CN  ...   \n",
       "3803  ['??', 'CN', 'CN', 'CN', '*', '*', '*', 'CN', ...          CN  ...   \n",
       "3804  ['??', 'CN', 'CN', 'CN', '*', 'CN', '*', '*', ...          CN  ...   \n",
       "\n",
       "     is_gcloud is_cloudflare is_major_cloud is_cloud  dst_asn  \\\n",
       "3797     False         False          False    False     4847   \n",
       "3798     False         False          False    False     4847   \n",
       "3799     False         False          False    False     4847   \n",
       "3800     False         False          False    False     4847   \n",
       "3802     False         False          False    False     4847   \n",
       "3803     False         False          False    False     4847   \n",
       "3804     False         False          False    False     4847   \n",
       "\n",
       "                            dst_org  \\\n",
       "3797  China Networks Inter-Exchange   \n",
       "3798  China Networks Inter-Exchange   \n",
       "3799  China Networks Inter-Exchange   \n",
       "3800  China Networks Inter-Exchange   \n",
       "3802  China Networks Inter-Exchange   \n",
       "3803  China Networks Inter-Exchange   \n",
       "3804  China Networks Inter-Exchange   \n",
       "\n",
       "                                              path_asns  \\\n",
       "3797  ['749', '749', '749', '749', 'noasn', '749', '...   \n",
       "3798  ['noasn', 'noasn', 'noasn', 'noasn', 'noasn', ...   \n",
       "3799  ['noasn', '749', '749', '749', '45102', '45102...   \n",
       "3800  ['noasn', 'noasn', 'noasn', '749', 'noasn', '7...   \n",
       "3802  ['noasn', 'noasn', 'noasn', '4134', '4134', 'n...   \n",
       "3803  ['noasn', '4134', '4134', '4134', 'noasn', 'no...   \n",
       "3804  ['noasn', '4812', '4812', '4812', 'noasn', '41...   \n",
       "\n",
       "                                              path_orgs  dst_prefix  \\\n",
       "3797  ['DoD Network Information Center', 'DoD Networ...  202.127.48   \n",
       "3798  [None, None, None, None, None, 'DoD Network In...  202.127.48   \n",
       "3799  [None, 'DoD Network Information Center', 'DoD ...  202.127.48   \n",
       "3800  [None, None, None, 'DoD Network Information Ce...  202.127.48   \n",
       "3802  [None, None, None, 'No.31,Jin-rong Street', 'N...  202.127.48   \n",
       "3803  [None, 'No.31,Jin-rong Street', 'No.31,Jin-ron...  202.127.48   \n",
       "3804  [None, 'China Telecom (Group)', 'China Telecom...  202.127.48   \n",
       "\n",
       "      dst_is_anycast  \n",
       "3797           False  \n",
       "3798           False  \n",
       "3799           False  \n",
       "3800           False  \n",
       "3802           False  \n",
       "3803           False  \n",
       "3804           False  \n",
       "\n",
       "[7 rows x 29 columns]"
      ]
     },
     "execution_count": 154,
     "metadata": {},
     "output_type": "execute_result"
    }
   ],
   "source": [
    "#filter violator traceroutes based on probes\n",
    "cn_df[(cn_df.probe_ids == 1005736) & (cn_df.is_violator == True)] \n",
    "\n",
    "#filter convergent non-violator traceroutes based on probes\n",
    "tw_df[(tw_df.probe_ids == 1005739) & (tw_df.is_violator == False) & (tw_df.is_convergent == False)] \n",
    "\n",
    "#filter violator traceroutes of a probe based on a specific destination\n",
    "subset = tw_df[(tw_df.is_violator) & (tw_df.probe_ids == 1005736)]\n",
    "subset[subset.dst_org == \"Alibaba (US) Technology Co., Ltd.\"]\n",
    "\n",
    "#filter based on measurement id (acquired from ripe Atlas measurements)\n",
    "cn_df[cn_df.measurement_id == 68064769]\n",
    "\n",
    "#mix any of these and other relevant filters to find specific patterns in the data\n"
   ]
  },
  {
   "cell_type": "code",
   "execution_count": 157,
   "id": "ad2ea66f",
   "metadata": {},
   "outputs": [
    {
     "name": "stdout",
     "output_type": "stream",
     "text": [
      "['CN', 'CN', 'US', 'CN']\n",
      "['172.17.0.1', '10.12.32.6', '*', '11.54.240.237', '10.102.107.170', '116.251.112.94', '11.63.103.86', '*', '*', '*', '*', '*', '47.93.95.89']\n",
      "['CN', 'CN', 'US', 'CN', 'CN']\n",
      "['172.17.0.1', '10.12.36.6', '*', '11.57.13.41', '103.52.75.58', '11.94.166.53', '116.251.112.209', '103.2.211.132', '*', '*', '*', '*', '*', '*']\n",
      "['CN', 'US', 'CN', 'CN']\n",
      "['172.17.0.1', '10.12.32.6', '*', '10.255.99.101', '103.41.141.210', '11.94.166.41', '116.251.115.113', '10.87.106.45', '*', '*', '*', '*', '*', '59.110.244.183']\n",
      "['CN', 'CN', 'US', 'CN', 'CN']\n",
      "['172.17.0.1', '10.12.36.6', '*', '11.57.13.41', '103.52.75.58', '11.94.166.53', '116.251.112.209', '103.2.211.132', '*', '*', '*', '*', '*', '*']\n",
      "['CN', 'US', 'CN', 'CN']\n",
      "['172.17.0.1', '10.12.44.6', '10.12.32.105', '10.255.99.89', '103.41.141.210', '11.94.166.41', '*', '218.241.244.205', '218.241.254.98', '*', '*', '*', '*', '*', '*']\n",
      "['CN', 'CN', 'US', 'CN', 'CN']\n",
      "['172.17.0.1', '10.12.36.6', '*', '11.57.13.41', '103.52.75.58', '11.94.166.53', '116.251.112.209', '103.2.211.132', '*', '*', '*', '*', '*', '*']\n",
      "['CN', 'US', 'CN']\n",
      "['172.17.0.1', '10.12.32.6', '*', '11.54.241.13', '10.102.107.122', '11.94.159.225', '10.102.155.90', '103.216.40.49', '*', '*', '*', '*', '*', '*']\n",
      "['CN', 'CN', 'CN', 'US', 'CN']\n",
      "['172.17.0.1', '10.33.120.190', '*', '*', '106.11.75.69', '117.49.37.41', '116.251.105.217', '*', '100.62.220.5', '*', '*', '223.4.77.85']\n",
      "['CN', 'CN', 'CN', 'US', 'CN']\n",
      "['172.17.0.1', '10.33.120.190', '*', '*', '106.11.75.69', '117.49.37.41', '116.251.105.217', '*', '100.62.220.5', '*', '*', '223.4.77.85']\n",
      "['CN', 'US', 'CN', 'CN', 'CN', 'CN']\n",
      "['172.17.0.1', '10.12.36.6', '*', '11.54.240.189', '10.102.253.205', '11.94.160.1', '119.38.213.186', '116.251.105.153', '11.141.77.57', '11.73.1.90', '*', '*', '*', '*', '*', '*']\n",
      "['CN', 'CN', 'CN', 'CN', 'US']\n",
      "['172.17.0.1', '10.33.108.190', '*', '*', '*', '11.94.176.209', '119.38.213.202', '116.251.105.149', '11.141.77.41', '11.73.1.210', '*', '*', '*', '*', '*', '*']\n"
     ]
    }
   ],
   "source": [
    "# use to loop through fielterd data and display selected information based on columns\n",
    "# this loop is spefically looking for the ip '172.17.0.1' and printing out the clean traceroute and path_ip\n",
    "for index, row in cn_df.iterrows():\n",
    "    if (row[\"is_violator\"] == True and '172.17.0.1' in row[\"path_ip\"]):\n",
    "        print(row[\"clean_traceroute\"])\n",
    "        print(row[\"path_ip\"])"
   ]
  },
  {
   "cell_type": "markdown",
   "id": "eba59c0e",
   "metadata": {},
   "source": [
    "### To find similarities/patterns between path ips/asns, compare violator and non-violator traceroutes "
   ]
  },
  {
   "cell_type": "code",
   "execution_count": 176,
   "id": "b4c9ee23",
   "metadata": {
    "scrolled": true
   },
   "outputs": [
    {
     "name": "stdout",
     "output_type": "stream",
     "text": [
      "['172.17.0.1', '10.12.32.6', '*', '11.54.240.237', '10.102.107.170', '116.251.112.94', '11.63.103.86', '*', '*', '*', '*', '*', '47.93.95.89']\n",
      "['26.10.178.78', '11.73.14.17', '11.73.34.89', '11.73.50.89', '10.222.215.153', '*', '140.205.27.221', '11.204.180.169', '11.216.21.166', '*', '*', '*', '*', '*', '47.93.95.89']\n",
      "\n",
      "['172.17.0.1', '10.12.32.6', '*', '11.54.240.237', '10.102.107.170', '116.251.112.94', '11.63.103.86', '*', '*', '*', '*', '*', '47.93.95.89']\n",
      "['172.17.0.1', '10.33.120.190', '*', '10.102.15.141', '116.251.118.2', '10.54.221.249', '11.63.103.118', '*', '*', '*', '*', '*', '47.93.95.89']\n",
      "\n",
      "['172.17.0.1', '10.12.32.6', '*', '11.54.240.237', '10.102.107.170', '116.251.112.94', '11.63.103.86', '*', '*', '*', '*', '*', '47.93.95.89']\n",
      "['172.17.0.1', '11.209.113.2', '11.73.4.49', '10.54.182.102', '116.251.89.234', '*', '140.205.27.229', '11.211.191.137', '10.48.203.102', '*', '*', '*', '*', '*', '47.93.95.89']\n",
      "\n",
      "['172.17.0.1', '10.12.32.6', '*', '11.54.240.237', '10.102.107.170', '116.251.112.94', '11.63.103.86', '*', '*', '*', '*', '*', '47.93.95.89']\n",
      "['192.168.1.254', '192.168.1.1', '100.84.128.1', '202.102.205.41', '202.97.74.73', '*', '*', '*', '119.38.213.133', '*', '*', '*', '*', '*', '47.93.95.89']\n",
      "\n",
      "['172.17.0.1', '10.12.32.6', '*', '11.54.240.237', '10.102.107.170', '116.251.112.94', '11.63.103.86', '*', '*', '*', '*', '*', '47.93.95.89']\n",
      "['192.168.1.1', '36.20.60.1', '61.164.19.8', '115.233.20.25', '202.97.22.13', '36.110.248.162', '*', '106.120.186.134', '45.112.216.129', '*', '*', '*', '*', '*', '47.93.95.89']\n",
      "\n",
      "['172.17.0.1', '10.12.32.6', '*', '11.54.240.237', '10.102.107.170', '116.251.112.94', '11.63.103.86', '*', '*', '*', '*', '*', '47.93.95.89']\n",
      "['192.168.71.1', '180.154.35.1', '61.152.52.182', '*', '61.152.25.154', '202.97.97.221', '36.110.246.50', '*', '106.120.186.162', '*', '*', '*', '*', '*', '47.93.95.89']\n",
      "\n",
      "['26.10.209.30', '11.73.57.150', '11.73.41.129', '11.73.51.217', '10.222.215.129', '10.54.171.221', '106.11.130.189', '10.87.106.225', '*', '*', '*', '*', '*', '59.110.244.183']\n",
      "['172.17.0.1', '10.33.116.190', '*', '10.102.15.157', '116.251.95.18', '11.94.136.225', '123.56.34.89', '10.87.106.41', '*', '*', '*', '*', '*', '59.110.244.183']\n",
      "\n",
      "['26.10.209.30', '11.73.57.150', '11.73.41.129', '11.73.51.217', '10.222.215.129', '10.54.171.221', '106.11.130.189', '10.87.106.225', '*', '*', '*', '*', '*', '59.110.244.183']\n",
      "['172.17.0.1', '11.209.112.2', '*', '11.142.211.18', '116.251.89.238', '10.54.96.46', '116.251.115.121', '10.87.106.37', '*', '*', '*', '*', '*', '59.110.244.183']\n",
      "\n",
      "['26.10.209.30', '11.73.57.150', '11.73.41.129', '11.73.51.217', '10.222.215.129', '10.54.171.221', '106.11.130.189', '10.87.106.225', '*', '*', '*', '*', '*', '59.110.244.183']\n",
      "['192.168.1.254', '192.168.1.1', '100.84.128.1', '202.102.205.189', '*', '36.110.246.138', '106.38.196.246', '*', '*', '*', '*', '*', '59.110.244.183']\n",
      "\n",
      "['26.10.209.30', '11.73.57.150', '11.73.41.129', '11.73.51.217', '10.222.215.129', '10.54.171.221', '106.11.130.189', '10.87.106.225', '*', '*', '*', '*', '*', '59.110.244.183']\n",
      "['192.168.1.1', '36.20.60.1', '61.164.19.8', '*', '202.97.122.85', '36.110.251.226', '106.38.196.254', '*', '106.11.130.181', '*', '*', '*', '*', '*', '59.110.244.183']\n",
      "\n",
      "['26.10.209.30', '11.73.57.150', '11.73.41.129', '11.73.51.217', '10.222.215.129', '10.54.171.221', '106.11.130.189', '10.87.106.225', '*', '*', '*', '*', '*', '59.110.244.183']\n",
      "['192.168.71.1', '180.154.35.1', '61.152.54.186', '61.152.54.185', '101.95.88.122', '*', '*', '*', '*', '*', '59.110.244.183']\n",
      "\n",
      "['26.10.178.78', '11.73.56.222', '11.73.40.17', '11.73.48.217', '10.222.214.185', '10.54.171.165', '*', '*', '125.33.185.105', '202.96.12.113', '*', '117.13.53.2', '125.39.163.190', '*', '60.28.100.164']\n",
      "['172.17.0.1', '11.209.113.2', '11.73.4.113', '11.95.17.17', '10.102.9.233', '116.251.119.138', '101.207.253.225', '101.207.255.94', '119.6.197.121', '*', '117.13.53.2', '220.194.86.6', '*', '60.28.100.164']\n",
      "\n",
      "['192.168.1.254', '192.168.1.1', '192.168.100.1', '10.5.1.45', '136.0.228.21', '*', '154.54.91.29', '154.54.1.194', '38.104.138.106', '*', '202.97.12.169', '*', '*', '219.141.140.69', '36.112.175.86', '*', '*', '1.202.237.122']\n",
      "['172.17.0.1', '11.209.113.2', '11.73.4.17', '10.54.182.94', '116.251.118.134', '116.251.119.158', '*', '182.140.229.181', '139.206.135.205', '202.97.98.121', '*', '*', '36.112.255.69', '36.112.175.86', '*', '*', '1.202.237.122']\n",
      "\n",
      "['192.168.1.254', '192.168.1.1', '192.168.100.1', '10.5.1.45', '136.0.228.21', '*', '154.54.91.29', '154.54.1.194', '38.104.138.106', '*', '202.97.12.169', '*', '*', '219.141.140.69', '36.112.175.86', '*', '*', '1.202.237.122']\n",
      "['192.168.71.1', '180.154.35.1', '61.152.55.158', '61.152.55.157', '61.152.24.250', '202.97.97.225', '*', '*', '36.112.223.58', '219.141.151.98', '*', '*', '1.202.237.122']\n",
      "\n",
      "['26.10.194.174', '11.73.57.46', '11.73.34.121', '11.73.51.217', '10.222.214.193', '10.54.171.113', '10.54.234.118', '10.54.41.198', '11.94.178.141', '11.168.161.49', '*', '203.107.45.167']\n",
      "['172.17.0.1', '*', '*', '10.102.15.165', '116.251.95.22', '10.255.71.121', '10.102.50.113', '11.94.128.37', '10.54.235.202', '*', '203.107.45.167']\n",
      "\n",
      "['26.10.194.174', '11.73.57.46', '11.73.34.121', '11.73.51.217', '10.222.214.193', '10.54.171.113', '10.54.234.118', '10.54.41.198', '11.94.178.141', '11.168.161.49', '*', '203.107.45.167']\n",
      "['172.17.0.1', '11.209.113.2', '11.73.4.17', '11.142.211.2', '116.251.118.122', '117.49.50.109', '42.120.239.181', '10.54.43.158', '203.107.45.167']\n",
      "\n",
      "['26.10.194.174', '11.73.57.46', '11.73.34.121', '11.73.51.217', '10.222.214.193', '10.54.171.113', '10.54.234.118', '10.54.41.198', '11.94.178.141', '11.168.161.49', '*', '203.107.45.167']\n",
      "['172.17.0.1', '10.12.44.6', '*', '*', '203.107.45.167']\n",
      "\n",
      "['26.10.194.174', '11.73.57.46', '11.73.34.121', '11.73.51.217', '10.222.214.193', '10.54.171.113', '10.54.234.118', '10.54.41.198', '11.94.178.141', '11.168.161.49', '*', '203.107.45.167']\n",
      "['192.168.1.254', '192.168.1.1', '100.84.128.1', '202.102.218.29', '*', '*', '*', '*', '113.96.60.14', '*', '*', '*', '*', '203.107.45.167']\n",
      "\n",
      "['26.10.194.174', '11.73.57.46', '11.73.34.121', '11.73.51.217', '10.222.214.193', '10.54.171.113', '10.54.234.118', '10.54.41.198', '11.94.178.141', '11.168.161.49', '*', '203.107.45.167']\n",
      "['192.168.1.1', '36.20.60.1', '61.164.19.8', '61.164.8.122', '*', '*', '*', '*', '183.2.184.138', '*', '*', '*', '*', '203.107.45.167']\n",
      "\n",
      "['26.10.194.174', '11.73.57.46', '11.73.34.121', '11.73.51.217', '10.222.214.193', '10.54.171.113', '10.54.234.118', '10.54.41.198', '11.94.178.141', '11.168.161.49', '*', '203.107.45.167']\n",
      "['192.168.71.1', '180.154.35.1', '61.172.65.206', '61.172.67.153', '*', '*', '*', '*', '*', '203.107.45.167']\n",
      "\n",
      "['192.168.1.254', '192.168.1.1', '192.168.100.1', '10.5.1.9', '*', '*', '154.54.91.33', '154.54.5.102', '38.104.138.106', '*', '*', '202.97.61.229', '*', '*', '36.112.238.74', '124.127.215.198', '*', '*', '*', '*', '*', '1.202.78.143']\n",
      "['26.10.178.78', '11.73.56.166', '11.73.32.177', '11.73.47.177', '10.222.215.145', '11.94.197.125', '*', '106.120.186.133', '36.110.251.121', '36.112.238.70', '124.127.215.198', '*', '*', '*', '*', '*', '1.202.78.143']\n",
      "\n",
      "['192.168.1.254', '192.168.1.1', '192.168.100.1', '10.5.1.9', '*', '*', '154.54.91.33', '154.54.5.102', '38.104.138.106', '*', '*', '202.97.61.229', '*', '*', '36.112.238.74', '124.127.215.198', '*', '*', '*', '*', '*', '1.202.78.143']\n",
      "['172.17.0.1', '10.33.116.190', '*', '10.102.15.157', '116.251.118.6', '116.251.113.217', '180.163.53.73', '101.95.209.69', '101.95.219.9', '202.97.33.97', '*', '36.112.238.74', '124.127.215.198', '*', '*', '*', '*', '*', '1.202.78.143']\n",
      "\n",
      "['192.168.1.254', '192.168.1.1', '192.168.100.1', '10.5.1.9', '*', '*', '154.54.91.33', '154.54.5.102', '38.104.138.106', '*', '*', '202.97.61.229', '*', '*', '36.112.238.74', '124.127.215.198', '*', '*', '*', '*', '*', '1.202.78.143']\n",
      "['172.17.0.1', '11.209.114.2', '*', '10.54.182.102', '116.251.118.126', '116.251.119.154', '*', '125.64.29.157', '182.140.220.57', '*', '*', '*', '36.112.253.58', '124.127.215.198', '*', '*', '*', '*', '*', '1.202.78.143']\n",
      "\n",
      "['192.168.1.254', '192.168.1.1', '192.168.100.1', '10.5.1.9', '*', '*', '154.54.91.33', '154.54.5.102', '38.104.138.106', '*', '*', '202.97.61.229', '*', '*', '36.112.238.74', '124.127.215.198', '*', '*', '*', '*', '*', '1.202.78.143']\n",
      "['172.17.0.1', '10.12.32.6', '10.12.32.109', '11.54.241.13', '10.102.253.201', '11.94.143.126', '*', '*', '119.147.223.153', '202.97.109.190', '*', '36.112.223.50', '106.120.252.174', '124.127.215.198', '*', '*', '*', '*', '*', '1.202.78.143']\n",
      "\n",
      "['192.168.1.254', '192.168.1.1', '192.168.100.1', '10.5.1.9', '*', '*', '154.54.91.33', '154.54.5.102', '38.104.138.106', '*', '*', '202.97.61.229', '*', '*', '36.112.238.74', '124.127.215.198', '*', '*', '*', '*', '*', '1.202.78.143']\n",
      "['192.168.1.1', '36.20.60.1', '*', '122.225.219.177', '202.97.24.117', '*', '*', '36.112.226.34', '124.127.215.198', '*', '*', '*', '*', '*', '1.202.78.143']\n",
      "\n",
      "['192.168.1.254', '192.168.1.1', '192.168.100.1', '10.5.1.9', '*', '*', '154.54.91.33', '154.54.5.102', '38.104.138.106', '*', '*', '202.97.61.229', '*', '*', '36.112.238.74', '124.127.215.198', '*', '*', '*', '*', '*', '1.202.78.143']\n",
      "['192.168.71.1', '180.154.35.1', '61.152.55.154', '61.172.65.201', '61.152.25.34', '202.97.97.237', '*', '*', '36.112.238.74', '124.127.215.198', '*', '*', '*', '*', '*', '1.202.78.143']\n",
      "\n",
      "['26.10.178.78', '11.73.56.86', '11.73.38.177', '11.73.51.217', '10.222.215.1', '11.94.197.101', '10.102.155.110', '*', '125.33.185.101', '61.148.156.46', '61.51.117.38', '61.148.80.13', '*', '61.148.80.50', '*', '61.135.227.111']\n",
      "['172.17.0.1', '11.209.113.2', '11.73.4.49', '10.54.182.102', '116.251.118.122', '116.251.119.114', '101.207.253.229', '101.207.255.97', '119.6.197.53', '219.158.110.209', '125.33.186.70', '61.148.156.46', '61.51.117.34', '61.148.80.13', '*', '61.148.80.50', '*', '61.135.227.111']\n",
      "\n",
      "['26.10.178.78', '11.73.56.86', '11.73.38.177', '11.73.51.217', '10.222.215.1', '11.94.197.101', '10.102.155.110', '*', '125.33.185.101', '61.148.156.46', '61.51.117.38', '61.148.80.13', '*', '61.148.80.50', '*', '61.135.227.111']\n",
      "['172.17.0.1', '10.12.40.6', '*', '11.54.241.13', '10.102.253.193', '42.120.242.229', '112.95.237.193', '*', '221.4.0.169', '219.158.8.81', '202.96.12.54', '61.148.156.46', '61.51.117.46', '61.148.80.13', '*', '61.148.80.50', '*', '61.135.227.111']\n",
      "\n",
      "['26.10.178.78', '11.73.56.86', '11.73.38.177', '11.73.51.217', '10.222.215.1', '11.94.197.101', '10.102.155.110', '*', '125.33.185.101', '61.148.156.46', '61.51.117.38', '61.148.80.13', '*', '61.148.80.50', '*', '61.135.227.111']\n",
      "['192.168.71.1', '180.154.35.1', '61.172.66.138', '61.172.67.161', '61.152.26.78', '202.97.97.233', '202.97.90.10', '219.158.34.213', '219.158.110.57', '202.96.12.206', '61.148.157.78', '61.51.117.46', '61.148.80.13', '*', '61.148.80.50', '*', '61.135.227.111']\n",
      "\n",
      "['26.10.178.78', '11.73.56.86', '11.73.38.177', '11.73.51.217', '10.222.215.1', '11.94.197.101', '10.102.155.110', '*', '125.33.185.101', '61.148.156.46', '61.51.117.38', '61.148.80.13', '*', '61.148.80.50', '*', '61.135.227.111']\n",
      "['192.168.1.254', '192.168.1.1', '100.84.128.1', '61.132.189.69', '202.97.100.13', '202.97.39.114', '219.158.41.25', '219.158.3.25', '61.149.203.186', '61.148.156.46', '61.51.117.42', '61.148.80.13', '*', '61.148.80.50', '*', '61.135.227.111']\n",
      "\n",
      "['26.10.178.78', '11.73.56.86', '11.73.38.177', '11.73.51.217', '10.222.215.1', '11.94.197.101', '10.102.155.110', '*', '125.33.185.101', '61.148.156.46', '61.51.117.38', '61.148.80.13', '*', '61.148.80.50', '*', '61.135.227.111']\n",
      "['192.168.1.1', '36.20.60.1', '61.164.19.10', '115.233.20.1', '202.97.98.37', '202.97.17.102', '219.158.41.1', '219.158.5.137', '124.65.194.106', '61.51.113.62', '61.51.117.42', '61.148.80.13', '*', '61.148.80.50', '*', '61.135.227.111']\n",
      "\n",
      "['26.10.178.78', '11.73.56.86', '11.73.38.177', '11.73.51.217', '10.222.215.1', '11.94.197.101', '10.102.155.110', '*', '125.33.185.101', '61.148.156.46', '61.51.117.38', '61.148.80.13', '*', '61.148.80.50', '*', '61.135.227.111']\n",
      "['172.17.0.1', '10.33.108.190', '*', '11.222.150.38', '116.251.114.245', '11.94.142.198', '140.206.207.73', '140.206.207.29', '139.226.230.161', '139.226.225.121', '*', '*', '61.51.113.62', '61.51.117.34', '61.148.80.13', '*', '61.148.80.50', '*', '61.135.227.111']\n",
      "\n",
      "['26.10.194.174', '11.73.57.198', '11.73.40.73', '11.73.51.217', '10.222.215.65', '11.94.197.169', '*', '106.38.196.229', '36.110.251.165', '202.97.79.118', '*', '125.74.72.62', '61.178.254.34', '*', '60.164.220.233', '60.164.220.233']\n",
      "['172.17.0.1', '11.209.115.2', '11.73.4.9', '11.95.16.249', '10.102.9.233', '116.251.119.138', '*', '*', '182.140.220.157', '202.97.80.110', '*', '125.74.72.58', '61.178.254.98', '*', '60.164.220.233', '60.164.220.233']\n",
      "\n",
      "['26.10.194.174', '11.73.57.198', '11.73.40.73', '11.73.51.217', '10.222.215.65', '11.94.197.169', '*', '106.38.196.229', '36.110.251.165', '202.97.79.118', '*', '125.74.72.62', '61.178.254.34', '*', '60.164.220.233', '60.164.220.233']\n",
      "['172.17.0.1', '10.12.44.6', '*', '11.54.241.21', '10.102.253.193', '11.94.163.93', '183.61.45.1', '58.61.162.177', '119.147.223.205', '202.97.86.166', '*', '*', '61.178.254.122', '*', '60.164.220.233', '60.164.220.233']\n",
      "\n",
      "['26.10.194.174', '11.73.57.198', '11.73.40.73', '11.73.51.217', '10.222.215.65', '11.94.197.169', '*', '106.38.196.229', '36.110.251.165', '202.97.79.118', '*', '125.74.72.62', '61.178.254.34', '*', '60.164.220.233', '60.164.220.233']\n",
      "['192.168.1.254', '192.168.1.1', '100.84.128.1', '202.102.206.145', '202.97.46.141', '202.97.47.162', '10.255.55.5', '125.74.72.42', '61.178.254.98', '*', '60.164.220.233', '60.164.220.233']\n",
      "\n",
      "['26.10.194.174', '11.73.57.198', '11.73.40.73', '11.73.51.217', '10.222.215.65', '11.94.197.169', '*', '106.38.196.229', '36.110.251.165', '202.97.79.118', '*', '125.74.72.62', '61.178.254.34', '*', '60.164.220.233', '60.164.220.233']\n",
      "['192.168.1.1', '36.20.60.1', '61.164.19.8', '61.164.8.120', '202.97.95.177', '202.97.47.158', '10.255.55.5', '125.74.76.210', '61.178.254.66', '*', '60.164.220.233', '60.164.220.233']\n",
      "\n",
      "['26.10.194.174', '11.73.57.198', '11.73.40.73', '11.73.51.217', '10.222.215.65', '11.94.197.169', '*', '106.38.196.229', '36.110.251.165', '202.97.79.118', '*', '125.74.72.62', '61.178.254.34', '*', '60.164.220.233', '60.164.220.233']\n",
      "['192.168.71.1', '180.154.35.1', '61.172.67.166', '61.152.55.157', '61.152.24.78', '202.97.66.62', '202.97.109.230', '*', '125.74.83.110', '61.178.101.42', '*', '60.164.220.233', '60.164.220.233']\n",
      "\n",
      "['26.10.194.174', '11.73.57.198', '11.73.40.73', '11.73.51.217', '10.222.215.65', '11.94.197.169', '*', '106.38.196.229', '36.110.251.165', '202.97.79.118', '*', '125.74.72.62', '61.178.254.34', '*', '60.164.220.233', '60.164.220.233']\n",
      "['172.17.0.1', '10.33.116.190', '*', '11.222.150.46', '106.11.75.109', '10.54.37.198', '101.95.211.113', '101.95.210.53', '*', '202.97.81.118', '202.97.106.94', '*', '*', '61.178.254.66', '*', '60.164.220.233', '60.164.220.233']\n",
      "\n",
      "['172.17.0.1', '10.33.120.190', '*', '*', '106.11.75.69', '117.49.37.41', '116.251.105.217', '*', '100.62.220.5', '*', '*', '223.4.77.85']\n",
      "['26.10.178.78', '11.73.57.30', '11.73.34.185', '11.73.47.153', '10.222.214.209', '10.54.213.157', '10.102.43.94', '10.102.46.65', '*', '100.62.220.13', '*', '*', '223.4.77.85']\n",
      "\n",
      "['172.17.0.1', '10.33.120.190', '*', '*', '106.11.75.69', '117.49.37.41', '116.251.105.217', '*', '100.62.220.5', '*', '*', '223.4.77.85']\n",
      "['172.17.0.1', '11.209.113.2', '11.73.4.81', '10.68.78.46', '10.102.9.241', '117.49.47.241', '117.49.37.37', '42.120.247.62', '*', '100.62.220.53', '*', '*', '223.4.77.85']\n",
      "\n",
      "['172.17.0.1', '10.33.120.190', '*', '*', '106.11.75.69', '117.49.37.41', '116.251.105.217', '*', '100.62.220.5', '*', '*', '223.4.77.85']\n",
      "['172.17.0.1', '10.12.40.6', '10.12.32.185', '11.54.240.213', '10.102.107.146', '10.54.89.18', '10.102.46.33', '*', '100.62.220.57', '*', '*', '223.4.77.85']\n",
      "\n",
      "['172.17.0.1', '10.33.120.190', '*', '*', '106.11.75.69', '117.49.37.41', '116.251.105.217', '*', '100.62.220.5', '*', '*', '223.4.77.85']\n",
      "['192.168.1.254', '192.168.1.1', '100.84.128.1', '202.102.217.61', '202.97.35.205', '*', '202.97.17.206', '*', '*', '139.226.204.126', '*', '140.205.50.246', '*', '*', '*', '*', '*', '223.4.77.85']\n",
      "\n",
      "['172.17.0.1', '10.33.120.190', '*', '*', '106.11.75.69', '117.49.37.41', '116.251.105.217', '*', '100.62.220.5', '*', '*', '223.4.77.85']\n",
      "['192.168.1.1', '36.20.60.1', '61.164.19.8', '61.164.8.118', '*', '*', '*', '*', '*', '223.4.77.85']\n",
      "\n",
      "['172.17.0.1', '10.33.120.190', '*', '*', '106.11.75.69', '117.49.37.41', '116.251.105.217', '*', '100.62.220.5', '*', '*', '223.4.77.85']\n",
      "['192.168.71.1', '180.154.35.1', '61.172.64.158', '61.172.67.157', '61.152.24.234', '*', '202.97.81.46', '*', '139.226.210.90', '*', '*', '140.205.50.254', '*', '45.112.223.14', '*', '*', '*', '*', '223.4.77.85']\n",
      "\n",
      "['26.10.194.174', '11.73.57.206', '11.73.40.81', '11.73.43.113', '10.222.214.169', '11.94.197.129', '11.94.218.158', '10.54.43.46', '11.94.132.18', '11.94.57.58', '10.12.168.78', '121.40.56.208']\n",
      "['172.17.0.1', '*', '11.73.4.33', '11.142.211.10', '116.251.118.130', '117.49.50.113', '10.54.230.213', '10.54.41.66', '121.40.56.208']\n",
      "\n",
      "['26.10.194.174', '11.73.57.206', '11.73.40.81', '11.73.43.113', '10.222.214.169', '11.94.197.129', '11.94.218.158', '10.54.43.46', '11.94.132.18', '11.94.57.58', '10.12.168.78', '121.40.56.208']\n",
      "['192.168.1.254', '192.168.1.1', '100.84.128.1', '202.102.207.173', '*', '220.191.199.154', '115.238.21.113', '*', '*', '*', '*', '121.40.56.208']\n",
      "\n",
      "['26.10.194.174', '11.73.57.206', '11.73.40.81', '11.73.43.113', '10.222.214.169', '11.94.197.129', '11.94.218.158', '10.54.43.46', '11.94.132.18', '11.94.57.58', '10.12.168.78', '121.40.56.208']\n",
      "['192.168.1.1', '36.20.60.1', '61.164.19.8', '122.225.218.233', '220.191.200.226', '122.224.214.70', '*', '*', '*', '*', '121.40.56.208']\n",
      "\n",
      "['26.10.194.174', '11.73.57.206', '11.73.40.81', '11.73.43.113', '10.222.214.169', '11.94.197.129', '11.94.218.158', '10.54.43.46', '11.94.132.18', '11.94.57.58', '10.12.168.78', '121.40.56.208']\n",
      "['192.168.71.1', '180.154.35.1', '61.172.64.166', '61.172.64.169', '101.95.88.130', '202.97.101.6', '220.191.199.110', '115.236.101.213', '*', '*', '*', '*', '121.40.56.208']\n",
      "\n",
      "['26.10.194.174', '11.73.57.206', '11.73.40.81', '11.73.43.113', '10.222.214.169', '11.94.197.129', '11.94.218.158', '10.54.43.46', '11.94.132.18', '11.94.57.58', '10.12.168.78', '121.40.56.208']\n",
      "['172.17.0.1', '10.33.120.190', '*', '10.102.15.133', '*', '117.49.37.21', '10.102.50.41', '121.40.56.208']\n",
      "\n",
      "['26.10.209.30', '11.73.14.25', '11.73.36.1', '11.73.48.217', '10.222.215.121', '11.94.197.125', '10.102.34.225', '106.39.194.1', '36.110.251.205', '202.97.99.209', '202.97.91.66', '222.221.31.158', '*', '*', '43.228.78.102']\n",
      "['172.17.0.1', '11.209.114.2', '11.73.4.89', '10.54.182.122', '116.251.89.246', '116.251.119.162', '*', '182.140.229.181', '182.140.220.169', '202.97.37.154', '222.221.31.158', '*', '*', '43.228.78.102']\n",
      "\n",
      "['26.10.209.30', '11.73.14.25', '11.73.36.1', '11.73.48.217', '10.222.215.121', '11.94.197.125', '10.102.34.225', '106.39.194.1', '36.110.251.205', '202.97.99.209', '202.97.91.66', '222.221.31.158', '*', '*', '43.228.78.102']\n",
      "['172.17.0.1', '10.12.36.6', '10.12.32.145', '11.57.13.25', '10.102.107.138', '11.94.143.154', '*', '58.61.162.157', '*', '202.97.39.166', '222.221.29.154', '*', '*', '43.228.78.102']\n",
      "\n",
      "['26.10.209.30', '11.73.14.25', '11.73.36.1', '11.73.48.217', '10.222.215.121', '11.94.197.125', '10.102.34.225', '106.39.194.1', '36.110.251.205', '202.97.99.209', '202.97.91.66', '222.221.31.158', '*', '*', '43.228.78.102']\n",
      "['192.168.1.254', '192.168.1.1', '100.84.128.1', '202.102.205.105', '202.97.107.101', '202.97.41.234', '222.221.28.78', '*', '*', '43.228.78.102']\n",
      "\n",
      "['26.10.209.30', '11.73.14.25', '11.73.36.1', '11.73.48.217', '10.222.215.121', '11.94.197.125', '10.102.34.225', '106.39.194.1', '36.110.251.205', '202.97.99.209', '202.97.91.66', '222.221.31.158', '*', '*', '43.228.78.102']\n",
      "['192.168.1.1', '36.20.60.1', '61.164.19.8', '*', '202.97.41.234', '*', '*', '*', '43.228.78.102']\n",
      "\n",
      "['26.10.209.30', '11.73.14.25', '11.73.36.1', '11.73.48.217', '10.222.215.121', '11.94.197.125', '10.102.34.225', '106.39.194.1', '36.110.251.205', '202.97.99.209', '202.97.91.66', '222.221.31.158', '*', '*', '43.228.78.102']\n",
      "['192.168.71.1', '180.154.35.1', '61.172.64.166', '61.152.55.157', '61.152.24.218', '202.97.101.178', '202.97.41.234', '*', '*', '*', '43.228.78.102']\n",
      "\n",
      "['26.10.209.30', '11.73.14.25', '11.73.36.1', '11.73.48.217', '10.222.215.121', '11.94.197.125', '10.102.34.225', '106.39.194.1', '36.110.251.205', '202.97.99.209', '202.97.91.66', '222.221.31.158', '*', '*', '43.228.78.102']\n",
      "['172.17.0.1', '10.33.108.190', '*', '11.222.150.38', '157.119.195.198', '11.94.178.50', '101.95.211.125', '101.95.208.13', '101.95.218.217', '202.97.102.6', '202.97.41.226', '*', '*', '*', '43.228.78.102']\n",
      "\n",
      "['26.10.178.78', '11.73.13.241', '11.73.38.41', '11.73.43.225', '10.222.214.233', '11.94.197.101', '45.112.216.138', '106.38.196.225', '*', '202.97.100.210', '202.102.206.62', '60.167.107.186', '*', '*', '*', '*', '*', '117.66.242.180']\n",
      "['172.17.0.1', '11.209.112.2', '11.73.4.97', '10.68.78.22', '10.54.97.105', '116.251.119.154', '*', '125.64.29.173', '182.140.220.189', '202.97.33.74', '202.102.217.134', '60.167.107.186', '*', '*', '*', '*', '*', '117.66.242.180']\n",
      "\n",
      "['26.10.178.78', '11.73.13.241', '11.73.38.41', '11.73.43.225', '10.222.214.233', '11.94.197.101', '45.112.216.138', '106.38.196.225', '*', '202.97.100.210', '202.102.206.62', '60.167.107.186', '*', '*', '*', '*', '*', '117.66.242.180']\n",
      "['172.17.0.1', '10.12.44.6', '*', '10.255.99.109', '103.41.141.254', '11.94.164.41', '113.96.60.13', '183.2.182.129', '*', '202.97.78.14', '202.102.217.134', '60.167.107.186', '*', '*', '*', '*', '*', '117.66.242.180']\n",
      "\n",
      "['26.10.178.78', '11.73.13.241', '11.73.38.41', '11.73.43.225', '10.222.214.233', '11.94.197.101', '45.112.216.138', '106.38.196.225', '*', '202.97.100.210', '202.102.206.62', '60.167.107.186', '*', '*', '*', '*', '*', '117.66.242.180']\n",
      "['192.168.1.254', '192.168.1.1', '100.84.128.1', '202.102.207.97', '202.102.206.78', '60.167.108.30', '*', '*', '*', '*', '*', '117.66.242.180']\n",
      "\n",
      "['26.10.178.78', '11.73.13.241', '11.73.38.41', '11.73.43.225', '10.222.214.233', '11.94.197.101', '45.112.216.138', '106.38.196.225', '*', '202.97.100.210', '202.102.206.62', '60.167.107.186', '*', '*', '*', '*', '*', '117.66.242.180']\n",
      "['192.168.71.1', '180.154.35.1', '61.152.52.182', '61.172.67.165', '61.152.25.10', '202.97.13.38', '202.102.206.62', '60.167.107.186', '*', '*', '*', '*', '*', '117.66.242.180']\n",
      "\n",
      "['26.10.178.78', '11.73.13.241', '11.73.38.41', '11.73.43.225', '10.222.214.233', '11.94.197.101', '45.112.216.138', '106.38.196.225', '*', '202.97.100.210', '202.102.206.62', '60.167.107.186', '*', '*', '*', '*', '*', '117.66.242.180']\n",
      "['192.168.1.1', '36.20.60.1', '61.164.19.8', '122.224.191.33', '202.97.85.2', '202.102.207.186', '60.167.107.186', '*', '*', '*', '*', '*', '117.66.242.180']\n",
      "\n",
      "['26.10.178.78', '11.73.13.241', '11.73.38.41', '11.73.43.225', '10.222.214.233', '11.94.197.101', '45.112.216.138', '106.38.196.225', '*', '202.97.100.210', '202.102.206.62', '60.167.107.186', '*', '*', '*', '*', '*', '117.66.242.180']\n",
      "['172.17.0.1', '10.33.104.190', '*', '11.222.150.54', '157.119.195.198', '10.54.37.238', '101.95.211.121', '101.95.209.125', '101.95.219.9', '202.97.13.10', '*', '60.167.107.186', '*', '*', '*', '*', '*', '117.66.242.180']\n",
      "\n",
      "['172.17.0.1', '10.33.120.190', '*', '*', '106.11.75.69', '117.49.37.41', '116.251.105.217', '*', '100.62.220.5', '*', '*', '223.4.77.85']\n",
      "['26.10.178.78', '11.73.57.30', '11.73.34.185', '11.73.47.153', '10.222.214.209', '10.54.213.157', '10.102.43.94', '10.102.46.65', '*', '100.62.220.13', '*', '*', '223.4.77.85']\n",
      "\n",
      "['172.17.0.1', '10.33.120.190', '*', '*', '106.11.75.69', '117.49.37.41', '116.251.105.217', '*', '100.62.220.5', '*', '*', '223.4.77.85']\n",
      "['172.17.0.1', '*', '11.73.4.81', '10.68.78.46', '10.102.9.241', '117.49.47.241', '117.49.37.37', '42.120.247.62', '*', '100.62.220.53', '*', '*', '223.4.77.85']\n",
      "\n",
      "['172.17.0.1', '10.33.120.190', '*', '*', '106.11.75.69', '117.49.37.41', '116.251.105.217', '*', '100.62.220.5', '*', '*', '223.4.77.85']\n",
      "['192.168.1.1', '100.84.128.1', '61.133.146.149', '202.102.217.61', '202.97.35.205', '202.97.92.50', '202.97.17.206', '*', '*', '*', '*', '140.205.50.246', '*', '*', '*', '*', '*', '223.4.77.85']\n",
      "\n",
      "['172.17.0.1', '10.33.120.190', '*', '*', '106.11.75.69', '117.49.37.41', '116.251.105.217', '*', '100.62.220.5', '*', '*', '223.4.77.85']\n",
      "['172.17.0.1', '10.12.40.6', '*', '11.54.240.213', '10.102.107.146', '10.54.89.18', '10.102.46.33', '*', '100.62.220.57', '*', '*', '223.4.77.85']\n",
      "\n",
      "['172.17.0.1', '10.33.120.190', '*', '*', '106.11.75.69', '117.49.37.41', '116.251.105.217', '*', '100.62.220.5', '*', '*', '223.4.77.85']\n",
      "['192.168.1.1', '36.20.60.1', '61.164.19.8', '*', '202.97.97.209', '202.97.61.130', '*', '*', '139.226.210.94', '*', '*', '116.251.113.214', '*', '42.120.247.66', '*', '*', '*', '*', '223.4.77.85']\n",
      "\n",
      "['172.17.0.1', '10.33.120.190', '*', '*', '106.11.75.69', '117.49.37.41', '116.251.105.217', '*', '100.62.220.5', '*', '*', '223.4.77.85']\n",
      "['192.168.71.1', '180.154.35.1', '61.172.66.130', '61.172.67.157', '61.152.24.234', '*', '202.97.81.46', '*', '*', '*', '*', '140.205.50.254', '*', '45.112.223.14', '*', '*', '*', '*', '223.4.77.85']\n",
      "\n"
     ]
    }
   ],
   "source": [
    "#convert ip strings to list; could also be done for asn or anything that needs to be analyzed\n",
    "#not very important for China\n",
    "violator_ips = stringToList(cn_df[(cn_df.is_violator == True)].path_ip)\n",
    "nonviolator_ips = stringToList(cn_df[(cn_df.is_violator == False)].path_ip)\n",
    "\n",
    "for nonviolator_ip in nonviolator_ips:\n",
    "        for violator_ip in violator_ips:    \n",
    "            #change based on the pattern you have observed\n",
    "            if (violator_ip[-1] == nonviolator_ip[-1] and violator_ip[-1] != \"*\" and nonviolator_ip[-1] != \"* \"): \n",
    "                print(violator_ip)\n",
    "                print(nonviolator_ip)\n",
    "                print()\n",
    "                break"
   ]
  },
  {
   "cell_type": "code",
   "execution_count": null,
   "id": "556ad59a",
   "metadata": {},
   "outputs": [],
   "source": []
  }
 ],
 "metadata": {
  "kernelspec": {
   "display_name": "Python 3 (ipykernel)",
   "language": "python",
   "name": "python3"
  },
  "language_info": {
   "codemirror_mode": {
    "name": "ipython",
    "version": 3
   },
   "file_extension": ".py",
   "mimetype": "text/x-python",
   "name": "python",
   "nbconvert_exporter": "python",
   "pygments_lexer": "ipython3",
   "version": "3.11.5"
  }
 },
 "nbformat": 4,
 "nbformat_minor": 5
}
